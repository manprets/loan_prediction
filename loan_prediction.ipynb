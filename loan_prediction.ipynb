{
 "metadata": {
  "name": "",
  "signature": "sha256:07ed086fbb01458f7d0e3cbe1995f08fdaa875920239ada7ffe90d1841345e07"
 },
 "nbformat": 3,
 "nbformat_minor": 0,
 "worksheets": [
  {
   "cells": [
    {
     "cell_type": "raw",
     "metadata": {},
     "source": [
      "# Roadmap:\n",
      "# What is data about\n",
      "# Summary of Data (EDA)\n",
      "# Visualization\n",
      "\n",
      "# Preprocessing:\n",
      "# Missing values\n",
      "# Transformations\n",
      "# Dummy Variables\n",
      "\n",
      "# Classification\n",
      "# Decision tree\n",
      "# Logistic regression\n",
      "# random forest\n",
      "# Gradient Boosting methods\n",
      "# Adaboost\n",
      "# Voting Classifier method"
     ]
    },
    {
     "cell_type": "code",
     "collapsed": false,
     "input": [
      "import sklearn\n",
      "sklearn.__version__"
     ],
     "language": "python",
     "metadata": {},
     "outputs": [
      {
       "metadata": {},
       "output_type": "pyout",
       "prompt_number": 1,
       "text": [
        "'0.18.1'"
       ]
      }
     ],
     "prompt_number": 1
    },
    {
     "cell_type": "code",
     "collapsed": false,
     "input": [
      "# Data Analysis and Visualization\n",
      "import pandas as pd\n",
      "import numpy as np\n",
      "import matplotlib.pyplot as plt\n",
      "import itertools\n",
      "import seaborn as sns\n",
      "\n",
      "# Evaluation\n",
      "from sklearn.metrics import roc_auc_score, accuracy_score\n",
      "from sklearn.cross_validation import StratifiedKFold,cross_val_score,LeaveOneOut,train_test_split\n",
      "\n",
      "# Model building\n",
      "from sklearn.linear_model import LogisticRegression\n",
      "from sklearn.ensemble import RandomForestClassifier, GradientBoostingClassifier, ExtraTreesClassifier\n",
      "from sklearn.preprocessing import LabelEncoder\n",
      "%matplotlib inline\n",
      "\n",
      "# Suppress warnings\n",
      "import warnings\n",
      "warnings.filterwarnings('ignore')"
     ],
     "language": "python",
     "metadata": {},
     "outputs": [],
     "prompt_number": 45
    },
    {
     "cell_type": "code",
     "collapsed": false,
     "input": [
      "# just read in data for now\n",
      "train = pd.read_csv('./data/train.csv')\n",
      "test = pd.read_csv('./data/test.csv')"
     ],
     "language": "python",
     "metadata": {},
     "outputs": [],
     "prompt_number": 5
    },
    {
     "cell_type": "code",
     "collapsed": false,
     "input": [
      "train.describe()"
     ],
     "language": "python",
     "metadata": {},
     "outputs": [
      {
       "html": [
        "<div style=\"max-width:1500px;overflow:auto;\">\n",
        "<table border=\"1\" class=\"dataframe\">\n",
        "  <thead>\n",
        "    <tr style=\"text-align: right;\">\n",
        "      <th></th>\n",
        "      <th>ApplicantIncome</th>\n",
        "      <th>CoapplicantIncome</th>\n",
        "      <th>LoanAmount</th>\n",
        "      <th>Loan_Amount_Term</th>\n",
        "      <th>Credit_History</th>\n",
        "    </tr>\n",
        "  </thead>\n",
        "  <tbody>\n",
        "    <tr>\n",
        "      <th>count</th>\n",
        "      <td>614.000000</td>\n",
        "      <td>614.000000</td>\n",
        "      <td>592.000000</td>\n",
        "      <td>600.00000</td>\n",
        "      <td>564.000000</td>\n",
        "    </tr>\n",
        "    <tr>\n",
        "      <th>mean</th>\n",
        "      <td>5403.459283</td>\n",
        "      <td>1621.245798</td>\n",
        "      <td>146.412162</td>\n",
        "      <td>342.00000</td>\n",
        "      <td>0.842199</td>\n",
        "    </tr>\n",
        "    <tr>\n",
        "      <th>std</th>\n",
        "      <td>6109.041673</td>\n",
        "      <td>2926.248369</td>\n",
        "      <td>85.587325</td>\n",
        "      <td>65.12041</td>\n",
        "      <td>0.364878</td>\n",
        "    </tr>\n",
        "    <tr>\n",
        "      <th>min</th>\n",
        "      <td>150.000000</td>\n",
        "      <td>0.000000</td>\n",
        "      <td>9.000000</td>\n",
        "      <td>12.00000</td>\n",
        "      <td>0.000000</td>\n",
        "    </tr>\n",
        "    <tr>\n",
        "      <th>25%</th>\n",
        "      <td>2877.500000</td>\n",
        "      <td>0.000000</td>\n",
        "      <td>NaN</td>\n",
        "      <td>NaN</td>\n",
        "      <td>NaN</td>\n",
        "    </tr>\n",
        "    <tr>\n",
        "      <th>50%</th>\n",
        "      <td>3812.500000</td>\n",
        "      <td>1188.500000</td>\n",
        "      <td>NaN</td>\n",
        "      <td>NaN</td>\n",
        "      <td>NaN</td>\n",
        "    </tr>\n",
        "    <tr>\n",
        "      <th>75%</th>\n",
        "      <td>5795.000000</td>\n",
        "      <td>2297.250000</td>\n",
        "      <td>NaN</td>\n",
        "      <td>NaN</td>\n",
        "      <td>NaN</td>\n",
        "    </tr>\n",
        "    <tr>\n",
        "      <th>max</th>\n",
        "      <td>81000.000000</td>\n",
        "      <td>41667.000000</td>\n",
        "      <td>700.000000</td>\n",
        "      <td>480.00000</td>\n",
        "      <td>1.000000</td>\n",
        "    </tr>\n",
        "  </tbody>\n",
        "</table>\n",
        "</div>"
       ],
       "metadata": {},
       "output_type": "pyout",
       "prompt_number": 6,
       "text": [
        "       ApplicantIncome  CoapplicantIncome  LoanAmount  Loan_Amount_Term  \\\n",
        "count       614.000000         614.000000  592.000000         600.00000   \n",
        "mean       5403.459283        1621.245798  146.412162         342.00000   \n",
        "std        6109.041673        2926.248369   85.587325          65.12041   \n",
        "min         150.000000           0.000000    9.000000          12.00000   \n",
        "25%        2877.500000           0.000000         NaN               NaN   \n",
        "50%        3812.500000        1188.500000         NaN               NaN   \n",
        "75%        5795.000000        2297.250000         NaN               NaN   \n",
        "max       81000.000000       41667.000000  700.000000         480.00000   \n",
        "\n",
        "       Credit_History  \n",
        "count      564.000000  \n",
        "mean         0.842199  \n",
        "std          0.364878  \n",
        "min          0.000000  \n",
        "25%               NaN  \n",
        "50%               NaN  \n",
        "75%               NaN  \n",
        "max          1.000000  "
       ]
      }
     ],
     "prompt_number": 6
    },
    {
     "cell_type": "code",
     "collapsed": false,
     "input": [
      "train.head()"
     ],
     "language": "python",
     "metadata": {},
     "outputs": [
      {
       "html": [
        "<div style=\"max-width:1500px;overflow:auto;\">\n",
        "<table border=\"1\" class=\"dataframe\">\n",
        "  <thead>\n",
        "    <tr style=\"text-align: right;\">\n",
        "      <th></th>\n",
        "      <th>Loan_ID</th>\n",
        "      <th>Gender</th>\n",
        "      <th>Married</th>\n",
        "      <th>Dependents</th>\n",
        "      <th>Education</th>\n",
        "      <th>Self_Employed</th>\n",
        "      <th>ApplicantIncome</th>\n",
        "      <th>CoapplicantIncome</th>\n",
        "      <th>LoanAmount</th>\n",
        "      <th>Loan_Amount_Term</th>\n",
        "      <th>Credit_History</th>\n",
        "      <th>Property_Area</th>\n",
        "      <th>Loan_Status</th>\n",
        "    </tr>\n",
        "  </thead>\n",
        "  <tbody>\n",
        "    <tr>\n",
        "      <th>0</th>\n",
        "      <td>LP001002</td>\n",
        "      <td>Male</td>\n",
        "      <td>No</td>\n",
        "      <td>0</td>\n",
        "      <td>Graduate</td>\n",
        "      <td>No</td>\n",
        "      <td>5849</td>\n",
        "      <td>0.0</td>\n",
        "      <td>NaN</td>\n",
        "      <td>360.0</td>\n",
        "      <td>1.0</td>\n",
        "      <td>Urban</td>\n",
        "      <td>Y</td>\n",
        "    </tr>\n",
        "    <tr>\n",
        "      <th>1</th>\n",
        "      <td>LP001003</td>\n",
        "      <td>Male</td>\n",
        "      <td>Yes</td>\n",
        "      <td>1</td>\n",
        "      <td>Graduate</td>\n",
        "      <td>No</td>\n",
        "      <td>4583</td>\n",
        "      <td>1508.0</td>\n",
        "      <td>128.0</td>\n",
        "      <td>360.0</td>\n",
        "      <td>1.0</td>\n",
        "      <td>Rural</td>\n",
        "      <td>N</td>\n",
        "    </tr>\n",
        "    <tr>\n",
        "      <th>2</th>\n",
        "      <td>LP001005</td>\n",
        "      <td>Male</td>\n",
        "      <td>Yes</td>\n",
        "      <td>0</td>\n",
        "      <td>Graduate</td>\n",
        "      <td>Yes</td>\n",
        "      <td>3000</td>\n",
        "      <td>0.0</td>\n",
        "      <td>66.0</td>\n",
        "      <td>360.0</td>\n",
        "      <td>1.0</td>\n",
        "      <td>Urban</td>\n",
        "      <td>Y</td>\n",
        "    </tr>\n",
        "    <tr>\n",
        "      <th>3</th>\n",
        "      <td>LP001006</td>\n",
        "      <td>Male</td>\n",
        "      <td>Yes</td>\n",
        "      <td>0</td>\n",
        "      <td>Not Graduate</td>\n",
        "      <td>No</td>\n",
        "      <td>2583</td>\n",
        "      <td>2358.0</td>\n",
        "      <td>120.0</td>\n",
        "      <td>360.0</td>\n",
        "      <td>1.0</td>\n",
        "      <td>Urban</td>\n",
        "      <td>Y</td>\n",
        "    </tr>\n",
        "    <tr>\n",
        "      <th>4</th>\n",
        "      <td>LP001008</td>\n",
        "      <td>Male</td>\n",
        "      <td>No</td>\n",
        "      <td>0</td>\n",
        "      <td>Graduate</td>\n",
        "      <td>No</td>\n",
        "      <td>6000</td>\n",
        "      <td>0.0</td>\n",
        "      <td>141.0</td>\n",
        "      <td>360.0</td>\n",
        "      <td>1.0</td>\n",
        "      <td>Urban</td>\n",
        "      <td>Y</td>\n",
        "    </tr>\n",
        "  </tbody>\n",
        "</table>\n",
        "</div>"
       ],
       "metadata": {},
       "output_type": "pyout",
       "prompt_number": 7,
       "text": [
        "    Loan_ID Gender Married Dependents     Education Self_Employed  \\\n",
        "0  LP001002   Male      No          0      Graduate            No   \n",
        "1  LP001003   Male     Yes          1      Graduate            No   \n",
        "2  LP001005   Male     Yes          0      Graduate           Yes   \n",
        "3  LP001006   Male     Yes          0  Not Graduate            No   \n",
        "4  LP001008   Male      No          0      Graduate            No   \n",
        "\n",
        "   ApplicantIncome  CoapplicantIncome  LoanAmount  Loan_Amount_Term  \\\n",
        "0             5849                0.0         NaN             360.0   \n",
        "1             4583             1508.0       128.0             360.0   \n",
        "2             3000                0.0        66.0             360.0   \n",
        "3             2583             2358.0       120.0             360.0   \n",
        "4             6000                0.0       141.0             360.0   \n",
        "\n",
        "   Credit_History Property_Area Loan_Status  \n",
        "0             1.0         Urban           Y  \n",
        "1             1.0         Rural           N  \n",
        "2             1.0         Urban           Y  \n",
        "3             1.0         Urban           Y  \n",
        "4             1.0         Urban           Y  "
       ]
      }
     ],
     "prompt_number": 7
    },
    {
     "cell_type": "code",
     "collapsed": false,
     "input": [
      "#Here Loan_ID is a unique identifer, mae it an index colum\n",
      "del train\n",
      "del test\n",
      "train = pd.read_csv('./data/train.csv',index_col= 'Loan_ID')\n",
      "test = pd.read_csv('./data/test.csv', index_col= 'Loan_ID')"
     ],
     "language": "python",
     "metadata": {},
     "outputs": [],
     "prompt_number": 8
    },
    {
     "cell_type": "code",
     "collapsed": false,
     "input": [
      "train.head()"
     ],
     "language": "python",
     "metadata": {},
     "outputs": [
      {
       "html": [
        "<div style=\"max-width:1500px;overflow:auto;\">\n",
        "<table border=\"1\" class=\"dataframe\">\n",
        "  <thead>\n",
        "    <tr style=\"text-align: right;\">\n",
        "      <th></th>\n",
        "      <th>Gender</th>\n",
        "      <th>Married</th>\n",
        "      <th>Dependents</th>\n",
        "      <th>Education</th>\n",
        "      <th>Self_Employed</th>\n",
        "      <th>ApplicantIncome</th>\n",
        "      <th>CoapplicantIncome</th>\n",
        "      <th>LoanAmount</th>\n",
        "      <th>Loan_Amount_Term</th>\n",
        "      <th>Credit_History</th>\n",
        "      <th>Property_Area</th>\n",
        "      <th>Loan_Status</th>\n",
        "    </tr>\n",
        "    <tr>\n",
        "      <th>Loan_ID</th>\n",
        "      <th></th>\n",
        "      <th></th>\n",
        "      <th></th>\n",
        "      <th></th>\n",
        "      <th></th>\n",
        "      <th></th>\n",
        "      <th></th>\n",
        "      <th></th>\n",
        "      <th></th>\n",
        "      <th></th>\n",
        "      <th></th>\n",
        "      <th></th>\n",
        "    </tr>\n",
        "  </thead>\n",
        "  <tbody>\n",
        "    <tr>\n",
        "      <th>LP001002</th>\n",
        "      <td>Male</td>\n",
        "      <td>No</td>\n",
        "      <td>0</td>\n",
        "      <td>Graduate</td>\n",
        "      <td>No</td>\n",
        "      <td>5849</td>\n",
        "      <td>0.0</td>\n",
        "      <td>NaN</td>\n",
        "      <td>360.0</td>\n",
        "      <td>1.0</td>\n",
        "      <td>Urban</td>\n",
        "      <td>Y</td>\n",
        "    </tr>\n",
        "    <tr>\n",
        "      <th>LP001003</th>\n",
        "      <td>Male</td>\n",
        "      <td>Yes</td>\n",
        "      <td>1</td>\n",
        "      <td>Graduate</td>\n",
        "      <td>No</td>\n",
        "      <td>4583</td>\n",
        "      <td>1508.0</td>\n",
        "      <td>128.0</td>\n",
        "      <td>360.0</td>\n",
        "      <td>1.0</td>\n",
        "      <td>Rural</td>\n",
        "      <td>N</td>\n",
        "    </tr>\n",
        "    <tr>\n",
        "      <th>LP001005</th>\n",
        "      <td>Male</td>\n",
        "      <td>Yes</td>\n",
        "      <td>0</td>\n",
        "      <td>Graduate</td>\n",
        "      <td>Yes</td>\n",
        "      <td>3000</td>\n",
        "      <td>0.0</td>\n",
        "      <td>66.0</td>\n",
        "      <td>360.0</td>\n",
        "      <td>1.0</td>\n",
        "      <td>Urban</td>\n",
        "      <td>Y</td>\n",
        "    </tr>\n",
        "    <tr>\n",
        "      <th>LP001006</th>\n",
        "      <td>Male</td>\n",
        "      <td>Yes</td>\n",
        "      <td>0</td>\n",
        "      <td>Not Graduate</td>\n",
        "      <td>No</td>\n",
        "      <td>2583</td>\n",
        "      <td>2358.0</td>\n",
        "      <td>120.0</td>\n",
        "      <td>360.0</td>\n",
        "      <td>1.0</td>\n",
        "      <td>Urban</td>\n",
        "      <td>Y</td>\n",
        "    </tr>\n",
        "    <tr>\n",
        "      <th>LP001008</th>\n",
        "      <td>Male</td>\n",
        "      <td>No</td>\n",
        "      <td>0</td>\n",
        "      <td>Graduate</td>\n",
        "      <td>No</td>\n",
        "      <td>6000</td>\n",
        "      <td>0.0</td>\n",
        "      <td>141.0</td>\n",
        "      <td>360.0</td>\n",
        "      <td>1.0</td>\n",
        "      <td>Urban</td>\n",
        "      <td>Y</td>\n",
        "    </tr>\n",
        "  </tbody>\n",
        "</table>\n",
        "</div>"
       ],
       "metadata": {},
       "output_type": "pyout",
       "prompt_number": 9,
       "text": [
        "         Gender Married Dependents     Education Self_Employed  \\\n",
        "Loan_ID                                                          \n",
        "LP001002   Male      No          0      Graduate            No   \n",
        "LP001003   Male     Yes          1      Graduate            No   \n",
        "LP001005   Male     Yes          0      Graduate           Yes   \n",
        "LP001006   Male     Yes          0  Not Graduate            No   \n",
        "LP001008   Male      No          0      Graduate            No   \n",
        "\n",
        "          ApplicantIncome  CoapplicantIncome  LoanAmount  Loan_Amount_Term  \\\n",
        "Loan_ID                                                                      \n",
        "LP001002             5849                0.0         NaN             360.0   \n",
        "LP001003             4583             1508.0       128.0             360.0   \n",
        "LP001005             3000                0.0        66.0             360.0   \n",
        "LP001006             2583             2358.0       120.0             360.0   \n",
        "LP001008             6000                0.0       141.0             360.0   \n",
        "\n",
        "          Credit_History Property_Area Loan_Status  \n",
        "Loan_ID                                             \n",
        "LP001002             1.0         Urban           Y  \n",
        "LP001003             1.0         Rural           N  \n",
        "LP001005             1.0         Urban           Y  \n",
        "LP001006             1.0         Urban           Y  \n",
        "LP001008             1.0         Urban           Y  "
       ]
      }
     ],
     "prompt_number": 9
    },
    {
     "cell_type": "code",
     "collapsed": false,
     "input": [
      "train.info()"
     ],
     "language": "python",
     "metadata": {},
     "outputs": [
      {
       "output_type": "stream",
       "stream": "stdout",
       "text": [
        "<class 'pandas.core.frame.DataFrame'>\n",
        "Index: 614 entries, LP001002 to LP002990\n",
        "Data columns (total 12 columns):\n",
        "Gender               601 non-null object\n",
        "Married              611 non-null object\n",
        "Dependents           599 non-null object\n",
        "Education            614 non-null object\n",
        "Self_Employed        582 non-null object\n",
        "ApplicantIncome      614 non-null int64\n",
        "CoapplicantIncome    614 non-null float64\n",
        "LoanAmount           592 non-null float64\n",
        "Loan_Amount_Term     600 non-null float64\n",
        "Credit_History       564 non-null float64\n",
        "Property_Area        614 non-null object\n",
        "Loan_Status          614 non-null object\n",
        "dtypes: float64(4), int64(1), object(7)\n",
        "memory usage: 62.4+ KB\n"
       ]
      }
     ],
     "prompt_number": 10
    },
    {
     "cell_type": "raw",
     "metadata": {},
     "source": [
      "# 614 rows: small dataset"
     ]
    },
    {
     "cell_type": "code",
     "collapsed": false,
     "input": [
      "test.head()"
     ],
     "language": "python",
     "metadata": {},
     "outputs": [
      {
       "html": [
        "<div style=\"max-width:1500px;overflow:auto;\">\n",
        "<table border=\"1\" class=\"dataframe\">\n",
        "  <thead>\n",
        "    <tr style=\"text-align: right;\">\n",
        "      <th></th>\n",
        "      <th>Gender</th>\n",
        "      <th>Married</th>\n",
        "      <th>Dependents</th>\n",
        "      <th>Education</th>\n",
        "      <th>Self_Employed</th>\n",
        "      <th>ApplicantIncome</th>\n",
        "      <th>CoapplicantIncome</th>\n",
        "      <th>LoanAmount</th>\n",
        "      <th>Loan_Amount_Term</th>\n",
        "      <th>Credit_History</th>\n",
        "      <th>Property_Area</th>\n",
        "    </tr>\n",
        "    <tr>\n",
        "      <th>Loan_ID</th>\n",
        "      <th></th>\n",
        "      <th></th>\n",
        "      <th></th>\n",
        "      <th></th>\n",
        "      <th></th>\n",
        "      <th></th>\n",
        "      <th></th>\n",
        "      <th></th>\n",
        "      <th></th>\n",
        "      <th></th>\n",
        "      <th></th>\n",
        "    </tr>\n",
        "  </thead>\n",
        "  <tbody>\n",
        "    <tr>\n",
        "      <th>LP001015</th>\n",
        "      <td>Male</td>\n",
        "      <td>Yes</td>\n",
        "      <td>0</td>\n",
        "      <td>Graduate</td>\n",
        "      <td>No</td>\n",
        "      <td>5720</td>\n",
        "      <td>0</td>\n",
        "      <td>110.0</td>\n",
        "      <td>360.0</td>\n",
        "      <td>1.0</td>\n",
        "      <td>Urban</td>\n",
        "    </tr>\n",
        "    <tr>\n",
        "      <th>LP001022</th>\n",
        "      <td>Male</td>\n",
        "      <td>Yes</td>\n",
        "      <td>1</td>\n",
        "      <td>Graduate</td>\n",
        "      <td>No</td>\n",
        "      <td>3076</td>\n",
        "      <td>1500</td>\n",
        "      <td>126.0</td>\n",
        "      <td>360.0</td>\n",
        "      <td>1.0</td>\n",
        "      <td>Urban</td>\n",
        "    </tr>\n",
        "    <tr>\n",
        "      <th>LP001031</th>\n",
        "      <td>Male</td>\n",
        "      <td>Yes</td>\n",
        "      <td>2</td>\n",
        "      <td>Graduate</td>\n",
        "      <td>No</td>\n",
        "      <td>5000</td>\n",
        "      <td>1800</td>\n",
        "      <td>208.0</td>\n",
        "      <td>360.0</td>\n",
        "      <td>1.0</td>\n",
        "      <td>Urban</td>\n",
        "    </tr>\n",
        "    <tr>\n",
        "      <th>LP001035</th>\n",
        "      <td>Male</td>\n",
        "      <td>Yes</td>\n",
        "      <td>2</td>\n",
        "      <td>Graduate</td>\n",
        "      <td>No</td>\n",
        "      <td>2340</td>\n",
        "      <td>2546</td>\n",
        "      <td>100.0</td>\n",
        "      <td>360.0</td>\n",
        "      <td>NaN</td>\n",
        "      <td>Urban</td>\n",
        "    </tr>\n",
        "    <tr>\n",
        "      <th>LP001051</th>\n",
        "      <td>Male</td>\n",
        "      <td>No</td>\n",
        "      <td>0</td>\n",
        "      <td>Not Graduate</td>\n",
        "      <td>No</td>\n",
        "      <td>3276</td>\n",
        "      <td>0</td>\n",
        "      <td>78.0</td>\n",
        "      <td>360.0</td>\n",
        "      <td>1.0</td>\n",
        "      <td>Urban</td>\n",
        "    </tr>\n",
        "  </tbody>\n",
        "</table>\n",
        "</div>"
       ],
       "metadata": {},
       "output_type": "pyout",
       "prompt_number": 11,
       "text": [
        "         Gender Married Dependents     Education Self_Employed  \\\n",
        "Loan_ID                                                          \n",
        "LP001015   Male     Yes          0      Graduate            No   \n",
        "LP001022   Male     Yes          1      Graduate            No   \n",
        "LP001031   Male     Yes          2      Graduate            No   \n",
        "LP001035   Male     Yes          2      Graduate            No   \n",
        "LP001051   Male      No          0  Not Graduate            No   \n",
        "\n",
        "          ApplicantIncome  CoapplicantIncome  LoanAmount  Loan_Amount_Term  \\\n",
        "Loan_ID                                                                      \n",
        "LP001015             5720                  0       110.0             360.0   \n",
        "LP001022             3076               1500       126.0             360.0   \n",
        "LP001031             5000               1800       208.0             360.0   \n",
        "LP001035             2340               2546       100.0             360.0   \n",
        "LP001051             3276                  0        78.0             360.0   \n",
        "\n",
        "          Credit_History Property_Area  \n",
        "Loan_ID                                 \n",
        "LP001015             1.0         Urban  \n",
        "LP001022             1.0         Urban  \n",
        "LP001031             1.0         Urban  \n",
        "LP001035             NaN         Urban  \n",
        "LP001051             1.0         Urban  "
       ]
      }
     ],
     "prompt_number": 11
    },
    {
     "cell_type": "code",
     "collapsed": false,
     "input": [
      "#get column names\n",
      "#print list(train.columns.values)\n",
      "#list(train)\n",
      "[c for c in train]"
     ],
     "language": "python",
     "metadata": {},
     "outputs": [
      {
       "metadata": {},
       "output_type": "pyout",
       "prompt_number": 12,
       "text": [
        "['Gender',\n",
        " 'Married',\n",
        " 'Dependents',\n",
        " 'Education',\n",
        " 'Self_Employed',\n",
        " 'ApplicantIncome',\n",
        " 'CoapplicantIncome',\n",
        " 'LoanAmount',\n",
        " 'Loan_Amount_Term',\n",
        " 'Credit_History',\n",
        " 'Property_Area',\n",
        " 'Loan_Status']"
       ]
      }
     ],
     "prompt_number": 12
    },
    {
     "cell_type": "raw",
     "metadata": {},
     "source": [
      "# column names that can be dropped for analysis\n",
      "# Loan_ID, Gender, Loan_Status\n",
      "\n",
      "# columns that are categorical (by looking at train.info())\n",
      "# Gender, Married, Education, Dependents, Self_Employed, Property_Area,Loan_Status\n",
      "\n",
      "#target column: Loan_Status"
     ]
    },
    {
     "cell_type": "code",
     "collapsed": false,
     "input": [
      "[c for c in train]"
     ],
     "language": "python",
     "metadata": {},
     "outputs": [
      {
       "metadata": {},
       "output_type": "pyout",
       "prompt_number": 13,
       "text": [
        "['Gender',\n",
        " 'Married',\n",
        " 'Dependents',\n",
        " 'Education',\n",
        " 'Self_Employed',\n",
        " 'ApplicantIncome',\n",
        " 'CoapplicantIncome',\n",
        " 'LoanAmount',\n",
        " 'Loan_Amount_Term',\n",
        " 'Credit_History',\n",
        " 'Property_Area',\n",
        " 'Loan_Status']"
       ]
      }
     ],
     "prompt_number": 13
    },
    {
     "cell_type": "code",
     "collapsed": false,
     "input": [
      "# get a count of missing values\n",
      "train.isnull().sum()"
     ],
     "language": "python",
     "metadata": {},
     "outputs": [
      {
       "metadata": {},
       "output_type": "pyout",
       "prompt_number": 14,
       "text": [
        "Gender               13\n",
        "Married               3\n",
        "Dependents           15\n",
        "Education             0\n",
        "Self_Employed        32\n",
        "ApplicantIncome       0\n",
        "CoapplicantIncome     0\n",
        "LoanAmount           22\n",
        "Loan_Amount_Term     14\n",
        "Credit_History       50\n",
        "Property_Area         0\n",
        "Loan_Status           0\n",
        "dtype: int64"
       ]
      }
     ],
     "prompt_number": 14
    },
    {
     "cell_type": "code",
     "collapsed": false,
     "input": [
      "#check if the label is balanced or unbalanced\n",
      "train.Loan_Status.value_counts()"
     ],
     "language": "python",
     "metadata": {},
     "outputs": [
      {
       "metadata": {},
       "output_type": "pyout",
       "prompt_number": 15,
       "text": [
        "Y    422\n",
        "N    192\n",
        "Name: Loan_Status, dtype: int64"
       ]
      }
     ],
     "prompt_number": 15
    },
    {
     "cell_type": "code",
     "collapsed": false,
     "input": [
      "#check balancing of Gender\n",
      "print train.Gender.value_counts()\n",
      "\n",
      "print \"Missing values:\",train.Gender.isnull().sum()\n",
      "\n",
      "#above function (train.Gender.value_counts()) does not count missing values\n",
      "print \"Male:\",sum((train.Gender=='Male'))\n",
      "print \"Female:\",sum((train.Gender=='Female'))"
     ],
     "language": "python",
     "metadata": {},
     "outputs": [
      {
       "output_type": "stream",
       "stream": "stdout",
       "text": [
        "Male      489\n",
        "Female    112\n",
        "Name: Gender, dtype: int64\n",
        "Missing values: 13\n",
        "Male: 489\n",
        "Female: 112\n"
       ]
      }
     ],
     "prompt_number": 20
    },
    {
     "cell_type": "code",
     "collapsed": false,
     "input": [
      "train.head()"
     ],
     "language": "python",
     "metadata": {},
     "outputs": [
      {
       "html": [
        "<div style=\"max-width:1500px;overflow:auto;\">\n",
        "<table border=\"1\" class=\"dataframe\">\n",
        "  <thead>\n",
        "    <tr style=\"text-align: right;\">\n",
        "      <th></th>\n",
        "      <th>Gender</th>\n",
        "      <th>Married</th>\n",
        "      <th>Dependents</th>\n",
        "      <th>Education</th>\n",
        "      <th>Self_Employed</th>\n",
        "      <th>ApplicantIncome</th>\n",
        "      <th>CoapplicantIncome</th>\n",
        "      <th>LoanAmount</th>\n",
        "      <th>Loan_Amount_Term</th>\n",
        "      <th>Credit_History</th>\n",
        "      <th>Property_Area</th>\n",
        "      <th>Loan_Status</th>\n",
        "    </tr>\n",
        "    <tr>\n",
        "      <th>Loan_ID</th>\n",
        "      <th></th>\n",
        "      <th></th>\n",
        "      <th></th>\n",
        "      <th></th>\n",
        "      <th></th>\n",
        "      <th></th>\n",
        "      <th></th>\n",
        "      <th></th>\n",
        "      <th></th>\n",
        "      <th></th>\n",
        "      <th></th>\n",
        "      <th></th>\n",
        "    </tr>\n",
        "  </thead>\n",
        "  <tbody>\n",
        "    <tr>\n",
        "      <th>LP001002</th>\n",
        "      <td>Male</td>\n",
        "      <td>No</td>\n",
        "      <td>0</td>\n",
        "      <td>Graduate</td>\n",
        "      <td>No</td>\n",
        "      <td>5849</td>\n",
        "      <td>0.0</td>\n",
        "      <td>NaN</td>\n",
        "      <td>360.0</td>\n",
        "      <td>1.0</td>\n",
        "      <td>Urban</td>\n",
        "      <td>Y</td>\n",
        "    </tr>\n",
        "    <tr>\n",
        "      <th>LP001003</th>\n",
        "      <td>Male</td>\n",
        "      <td>Yes</td>\n",
        "      <td>1</td>\n",
        "      <td>Graduate</td>\n",
        "      <td>No</td>\n",
        "      <td>4583</td>\n",
        "      <td>1508.0</td>\n",
        "      <td>128.0</td>\n",
        "      <td>360.0</td>\n",
        "      <td>1.0</td>\n",
        "      <td>Rural</td>\n",
        "      <td>N</td>\n",
        "    </tr>\n",
        "    <tr>\n",
        "      <th>LP001005</th>\n",
        "      <td>Male</td>\n",
        "      <td>Yes</td>\n",
        "      <td>0</td>\n",
        "      <td>Graduate</td>\n",
        "      <td>Yes</td>\n",
        "      <td>3000</td>\n",
        "      <td>0.0</td>\n",
        "      <td>66.0</td>\n",
        "      <td>360.0</td>\n",
        "      <td>1.0</td>\n",
        "      <td>Urban</td>\n",
        "      <td>Y</td>\n",
        "    </tr>\n",
        "    <tr>\n",
        "      <th>LP001006</th>\n",
        "      <td>Male</td>\n",
        "      <td>Yes</td>\n",
        "      <td>0</td>\n",
        "      <td>Not Graduate</td>\n",
        "      <td>No</td>\n",
        "      <td>2583</td>\n",
        "      <td>2358.0</td>\n",
        "      <td>120.0</td>\n",
        "      <td>360.0</td>\n",
        "      <td>1.0</td>\n",
        "      <td>Urban</td>\n",
        "      <td>Y</td>\n",
        "    </tr>\n",
        "    <tr>\n",
        "      <th>LP001008</th>\n",
        "      <td>Male</td>\n",
        "      <td>No</td>\n",
        "      <td>0</td>\n",
        "      <td>Graduate</td>\n",
        "      <td>No</td>\n",
        "      <td>6000</td>\n",
        "      <td>0.0</td>\n",
        "      <td>141.0</td>\n",
        "      <td>360.0</td>\n",
        "      <td>1.0</td>\n",
        "      <td>Urban</td>\n",
        "      <td>Y</td>\n",
        "    </tr>\n",
        "  </tbody>\n",
        "</table>\n",
        "</div>"
       ],
       "metadata": {},
       "output_type": "pyout",
       "prompt_number": 21,
       "text": [
        "         Gender Married Dependents     Education Self_Employed  \\\n",
        "Loan_ID                                                          \n",
        "LP001002   Male      No          0      Graduate            No   \n",
        "LP001003   Male     Yes          1      Graduate            No   \n",
        "LP001005   Male     Yes          0      Graduate           Yes   \n",
        "LP001006   Male     Yes          0  Not Graduate            No   \n",
        "LP001008   Male      No          0      Graduate            No   \n",
        "\n",
        "          ApplicantIncome  CoapplicantIncome  LoanAmount  Loan_Amount_Term  \\\n",
        "Loan_ID                                                                      \n",
        "LP001002             5849                0.0         NaN             360.0   \n",
        "LP001003             4583             1508.0       128.0             360.0   \n",
        "LP001005             3000                0.0        66.0             360.0   \n",
        "LP001006             2583             2358.0       120.0             360.0   \n",
        "LP001008             6000                0.0       141.0             360.0   \n",
        "\n",
        "          Credit_History Property_Area Loan_Status  \n",
        "Loan_ID                                             \n",
        "LP001002             1.0         Urban           Y  \n",
        "LP001003             1.0         Rural           N  \n",
        "LP001005             1.0         Urban           Y  \n",
        "LP001006             1.0         Urban           Y  \n",
        "LP001008             1.0         Urban           Y  "
       ]
      }
     ],
     "prompt_number": 21
    },
    {
     "cell_type": "code",
     "collapsed": false,
     "input": [
      "# convert categorical data into numerical\n",
      "train['Gender']=(train.Gender=='Female')*1\n",
      "test['Gender']=(test.Gender=='Female')*1"
     ],
     "language": "python",
     "metadata": {},
     "outputs": [],
     "prompt_number": 22
    },
    {
     "cell_type": "code",
     "collapsed": false,
     "input": [
      "train['Married']=(train.Married=='No')*1\n",
      "test['Married']=(test.Married=='No')*1\n",
      "\n",
      "train['Self_Employed']=(train.Self_Employed=='Yes')*1\n",
      "test['Self_Employed']=(test.Self_Employed=='Yes')*1"
     ],
     "language": "python",
     "metadata": {},
     "outputs": [],
     "prompt_number": 23
    },
    {
     "cell_type": "code",
     "collapsed": false,
     "input": [
      "# One can use map to convert categorical to numerical\n",
      "# straight forward way would be use to LabelEncoder\n",
      "education_map={'Graduate':1,'Not Graduate':2}\n",
      "train['Education']=train.Education.map(education_map)\n",
      "test['Education']=test.Education.map(education_map)\n",
      "\n",
      "property_area_map={'Urban':1,'Rural':2,'Semiurban':3}\n",
      "train['Property_Area']=train.Property_Area.map(property_area_map)\n",
      "test['Property_Area']=test.Property_Area.map(property_area_map)"
     ],
     "language": "python",
     "metadata": {},
     "outputs": [],
     "prompt_number": 24
    },
    {
     "cell_type": "raw",
     "metadata": {},
     "source": [
      "df['Gender'] = df['Gender'].map({'Female':0,'Male':1})\n",
      "df['Married'] = df['Married'].map({'No':0, 'Yes':1})\n",
      "df['Education'] = df['Education'].map({'Not Graduate':0, 'Graduate':1})\n",
      "df['Self_Employed'] = df['Self_Employed'].map({'No':0, 'Yes':1})\n",
      "df['Property_Area'] = df['Property_Area'].map({'Urban':3, 'Semiurban':2, 'Rural':1})\n",
      "df['Loan_Status'] = df['Loan_Status'].map({'N':0, 'Y':1})"
     ]
    },
    {
     "cell_type": "code",
     "collapsed": false,
     "input": [
      "# look at the transformed data\n",
      "train.head()"
     ],
     "language": "python",
     "metadata": {},
     "outputs": [
      {
       "html": [
        "<div style=\"max-width:1500px;overflow:auto;\">\n",
        "<table border=\"1\" class=\"dataframe\">\n",
        "  <thead>\n",
        "    <tr style=\"text-align: right;\">\n",
        "      <th></th>\n",
        "      <th>Gender</th>\n",
        "      <th>Married</th>\n",
        "      <th>Dependents</th>\n",
        "      <th>Education</th>\n",
        "      <th>Self_Employed</th>\n",
        "      <th>ApplicantIncome</th>\n",
        "      <th>CoapplicantIncome</th>\n",
        "      <th>LoanAmount</th>\n",
        "      <th>Loan_Amount_Term</th>\n",
        "      <th>Credit_History</th>\n",
        "      <th>Property_Area</th>\n",
        "      <th>Loan_Status</th>\n",
        "    </tr>\n",
        "    <tr>\n",
        "      <th>Loan_ID</th>\n",
        "      <th></th>\n",
        "      <th></th>\n",
        "      <th></th>\n",
        "      <th></th>\n",
        "      <th></th>\n",
        "      <th></th>\n",
        "      <th></th>\n",
        "      <th></th>\n",
        "      <th></th>\n",
        "      <th></th>\n",
        "      <th></th>\n",
        "      <th></th>\n",
        "    </tr>\n",
        "  </thead>\n",
        "  <tbody>\n",
        "    <tr>\n",
        "      <th>LP001002</th>\n",
        "      <td>0</td>\n",
        "      <td>1</td>\n",
        "      <td>0</td>\n",
        "      <td>1</td>\n",
        "      <td>0</td>\n",
        "      <td>5849</td>\n",
        "      <td>0.0</td>\n",
        "      <td>NaN</td>\n",
        "      <td>360.0</td>\n",
        "      <td>1.0</td>\n",
        "      <td>1</td>\n",
        "      <td>Y</td>\n",
        "    </tr>\n",
        "    <tr>\n",
        "      <th>LP001003</th>\n",
        "      <td>0</td>\n",
        "      <td>0</td>\n",
        "      <td>1</td>\n",
        "      <td>1</td>\n",
        "      <td>0</td>\n",
        "      <td>4583</td>\n",
        "      <td>1508.0</td>\n",
        "      <td>128.0</td>\n",
        "      <td>360.0</td>\n",
        "      <td>1.0</td>\n",
        "      <td>2</td>\n",
        "      <td>N</td>\n",
        "    </tr>\n",
        "    <tr>\n",
        "      <th>LP001005</th>\n",
        "      <td>0</td>\n",
        "      <td>0</td>\n",
        "      <td>0</td>\n",
        "      <td>1</td>\n",
        "      <td>1</td>\n",
        "      <td>3000</td>\n",
        "      <td>0.0</td>\n",
        "      <td>66.0</td>\n",
        "      <td>360.0</td>\n",
        "      <td>1.0</td>\n",
        "      <td>1</td>\n",
        "      <td>Y</td>\n",
        "    </tr>\n",
        "    <tr>\n",
        "      <th>LP001006</th>\n",
        "      <td>0</td>\n",
        "      <td>0</td>\n",
        "      <td>0</td>\n",
        "      <td>2</td>\n",
        "      <td>0</td>\n",
        "      <td>2583</td>\n",
        "      <td>2358.0</td>\n",
        "      <td>120.0</td>\n",
        "      <td>360.0</td>\n",
        "      <td>1.0</td>\n",
        "      <td>1</td>\n",
        "      <td>Y</td>\n",
        "    </tr>\n",
        "    <tr>\n",
        "      <th>LP001008</th>\n",
        "      <td>0</td>\n",
        "      <td>1</td>\n",
        "      <td>0</td>\n",
        "      <td>1</td>\n",
        "      <td>0</td>\n",
        "      <td>6000</td>\n",
        "      <td>0.0</td>\n",
        "      <td>141.0</td>\n",
        "      <td>360.0</td>\n",
        "      <td>1.0</td>\n",
        "      <td>1</td>\n",
        "      <td>Y</td>\n",
        "    </tr>\n",
        "  </tbody>\n",
        "</table>\n",
        "</div>"
       ],
       "metadata": {},
       "output_type": "pyout",
       "prompt_number": 25,
       "text": [
        "          Gender  Married Dependents  Education  Self_Employed  \\\n",
        "Loan_ID                                                          \n",
        "LP001002       0        1          0          1              0   \n",
        "LP001003       0        0          1          1              0   \n",
        "LP001005       0        0          0          1              1   \n",
        "LP001006       0        0          0          2              0   \n",
        "LP001008       0        1          0          1              0   \n",
        "\n",
        "          ApplicantIncome  CoapplicantIncome  LoanAmount  Loan_Amount_Term  \\\n",
        "Loan_ID                                                                      \n",
        "LP001002             5849                0.0         NaN             360.0   \n",
        "LP001003             4583             1508.0       128.0             360.0   \n",
        "LP001005             3000                0.0        66.0             360.0   \n",
        "LP001006             2583             2358.0       120.0             360.0   \n",
        "LP001008             6000                0.0       141.0             360.0   \n",
        "\n",
        "          Credit_History  Property_Area Loan_Status  \n",
        "Loan_ID                                              \n",
        "LP001002             1.0              1           Y  \n",
        "LP001003             1.0              2           N  \n",
        "LP001005             1.0              1           Y  \n",
        "LP001006             1.0              1           Y  \n",
        "LP001008             1.0              1           Y  "
       ]
      }
     ],
     "prompt_number": 25
    },
    {
     "cell_type": "code",
     "collapsed": false,
     "input": [
      "# Data still contains missing values\n",
      "# fix that"
     ],
     "language": "python",
     "metadata": {},
     "outputs": [],
     "prompt_number": 26
    },
    {
     "cell_type": "code",
     "collapsed": false,
     "input": [
      "# replace missing values with mean value of that column\n",
      "print train.LoanAmount.mean()\n",
      "print test.LoanAmount.mean()"
     ],
     "language": "python",
     "metadata": {},
     "outputs": [
      {
       "output_type": "stream",
       "stream": "stdout",
       "text": [
        "146.412162162\n",
        "136.132596685\n"
       ]
      }
     ],
     "prompt_number": 27
    },
    {
     "cell_type": "code",
     "collapsed": false,
     "input": [
      "# use fillna function to populate missing values with mean values of that column\n",
      "train['LoanAmount']=train.LoanAmount.fillna(train.LoanAmount.mean())\n",
      "test['LoanAmount']=train.LoanAmount.fillna(test.LoanAmount.mean())"
     ],
     "language": "python",
     "metadata": {},
     "outputs": [],
     "prompt_number": 28
    },
    {
     "cell_type": "code",
     "collapsed": false,
     "input": [
      "# replace missing values with mean value of that column\n",
      "print train.Loan_Amount_Term.mean()\n",
      "print test.Loan_Amount_Term.mean()"
     ],
     "language": "python",
     "metadata": {},
     "outputs": [
      {
       "output_type": "stream",
       "stream": "stdout",
       "text": [
        "342.0\n",
        "342.537396122\n"
       ]
      }
     ],
     "prompt_number": 29
    },
    {
     "cell_type": "code",
     "collapsed": false,
     "input": [
      "# use fillna function to populate missing values with mean values of that column\n",
      "train['Loan_Amount_Term']=train.Loan_Amount_Term.fillna(train.Loan_Amount_Term.mean())\n",
      "test['Loan_Amount_Term']=train.Loan_Amount_Term.fillna(test.Loan_Amount_Term.mean())"
     ],
     "language": "python",
     "metadata": {},
     "outputs": [],
     "prompt_number": 30
    },
    {
     "cell_type": "code",
     "collapsed": false,
     "input": [
      "# Credit history more or looks like an indicator (0 or 1 value)\n",
      "train['Credit_History']=train.Credit_History.fillna(1)\n",
      "test['Credit_History']=train.Credit_History.fillna(1)"
     ],
     "language": "python",
     "metadata": {},
     "outputs": [],
     "prompt_number": 31
    },
    {
     "cell_type": "code",
     "collapsed": false,
     "input": [
      "#print to see transformed data\n",
      "train.head()"
     ],
     "language": "python",
     "metadata": {},
     "outputs": [
      {
       "html": [
        "<div style=\"max-width:1500px;overflow:auto;\">\n",
        "<table border=\"1\" class=\"dataframe\">\n",
        "  <thead>\n",
        "    <tr style=\"text-align: right;\">\n",
        "      <th></th>\n",
        "      <th>Gender</th>\n",
        "      <th>Married</th>\n",
        "      <th>Dependents</th>\n",
        "      <th>Education</th>\n",
        "      <th>Self_Employed</th>\n",
        "      <th>ApplicantIncome</th>\n",
        "      <th>CoapplicantIncome</th>\n",
        "      <th>LoanAmount</th>\n",
        "      <th>Loan_Amount_Term</th>\n",
        "      <th>Credit_History</th>\n",
        "      <th>Property_Area</th>\n",
        "      <th>Loan_Status</th>\n",
        "    </tr>\n",
        "    <tr>\n",
        "      <th>Loan_ID</th>\n",
        "      <th></th>\n",
        "      <th></th>\n",
        "      <th></th>\n",
        "      <th></th>\n",
        "      <th></th>\n",
        "      <th></th>\n",
        "      <th></th>\n",
        "      <th></th>\n",
        "      <th></th>\n",
        "      <th></th>\n",
        "      <th></th>\n",
        "      <th></th>\n",
        "    </tr>\n",
        "  </thead>\n",
        "  <tbody>\n",
        "    <tr>\n",
        "      <th>LP001002</th>\n",
        "      <td>0</td>\n",
        "      <td>1</td>\n",
        "      <td>0</td>\n",
        "      <td>1</td>\n",
        "      <td>0</td>\n",
        "      <td>5849</td>\n",
        "      <td>0.0</td>\n",
        "      <td>146.412162</td>\n",
        "      <td>360.0</td>\n",
        "      <td>1.0</td>\n",
        "      <td>1</td>\n",
        "      <td>Y</td>\n",
        "    </tr>\n",
        "    <tr>\n",
        "      <th>LP001003</th>\n",
        "      <td>0</td>\n",
        "      <td>0</td>\n",
        "      <td>1</td>\n",
        "      <td>1</td>\n",
        "      <td>0</td>\n",
        "      <td>4583</td>\n",
        "      <td>1508.0</td>\n",
        "      <td>128.000000</td>\n",
        "      <td>360.0</td>\n",
        "      <td>1.0</td>\n",
        "      <td>2</td>\n",
        "      <td>N</td>\n",
        "    </tr>\n",
        "    <tr>\n",
        "      <th>LP001005</th>\n",
        "      <td>0</td>\n",
        "      <td>0</td>\n",
        "      <td>0</td>\n",
        "      <td>1</td>\n",
        "      <td>1</td>\n",
        "      <td>3000</td>\n",
        "      <td>0.0</td>\n",
        "      <td>66.000000</td>\n",
        "      <td>360.0</td>\n",
        "      <td>1.0</td>\n",
        "      <td>1</td>\n",
        "      <td>Y</td>\n",
        "    </tr>\n",
        "    <tr>\n",
        "      <th>LP001006</th>\n",
        "      <td>0</td>\n",
        "      <td>0</td>\n",
        "      <td>0</td>\n",
        "      <td>2</td>\n",
        "      <td>0</td>\n",
        "      <td>2583</td>\n",
        "      <td>2358.0</td>\n",
        "      <td>120.000000</td>\n",
        "      <td>360.0</td>\n",
        "      <td>1.0</td>\n",
        "      <td>1</td>\n",
        "      <td>Y</td>\n",
        "    </tr>\n",
        "    <tr>\n",
        "      <th>LP001008</th>\n",
        "      <td>0</td>\n",
        "      <td>1</td>\n",
        "      <td>0</td>\n",
        "      <td>1</td>\n",
        "      <td>0</td>\n",
        "      <td>6000</td>\n",
        "      <td>0.0</td>\n",
        "      <td>141.000000</td>\n",
        "      <td>360.0</td>\n",
        "      <td>1.0</td>\n",
        "      <td>1</td>\n",
        "      <td>Y</td>\n",
        "    </tr>\n",
        "  </tbody>\n",
        "</table>\n",
        "</div>"
       ],
       "metadata": {},
       "output_type": "pyout",
       "prompt_number": 32,
       "text": [
        "          Gender  Married Dependents  Education  Self_Employed  \\\n",
        "Loan_ID                                                          \n",
        "LP001002       0        1          0          1              0   \n",
        "LP001003       0        0          1          1              0   \n",
        "LP001005       0        0          0          1              1   \n",
        "LP001006       0        0          0          2              0   \n",
        "LP001008       0        1          0          1              0   \n",
        "\n",
        "          ApplicantIncome  CoapplicantIncome  LoanAmount  Loan_Amount_Term  \\\n",
        "Loan_ID                                                                      \n",
        "LP001002             5849                0.0  146.412162             360.0   \n",
        "LP001003             4583             1508.0  128.000000             360.0   \n",
        "LP001005             3000                0.0   66.000000             360.0   \n",
        "LP001006             2583             2358.0  120.000000             360.0   \n",
        "LP001008             6000                0.0  141.000000             360.0   \n",
        "\n",
        "          Credit_History  Property_Area Loan_Status  \n",
        "Loan_ID                                              \n",
        "LP001002             1.0              1           Y  \n",
        "LP001003             1.0              2           N  \n",
        "LP001005             1.0              1           Y  \n",
        "LP001006             1.0              1           Y  \n",
        "LP001008             1.0              1           Y  "
       ]
      }
     ],
     "prompt_number": 32
    },
    {
     "cell_type": "code",
     "collapsed": false,
     "input": [
      "# missing values have been replaced\n",
      "# print count of missing values once again\n",
      "train.isnull().sum()"
     ],
     "language": "python",
     "metadata": {},
     "outputs": [
      {
       "metadata": {},
       "output_type": "pyout",
       "prompt_number": 34,
       "text": [
        "Gender                0\n",
        "Married               0\n",
        "Dependents           15\n",
        "Education             0\n",
        "Self_Employed         0\n",
        "ApplicantIncome       0\n",
        "CoapplicantIncome     0\n",
        "LoanAmount            0\n",
        "Loan_Amount_Term      0\n",
        "Credit_History        0\n",
        "Property_Area         0\n",
        "Loan_Status           0\n",
        "dtype: int64"
       ]
      }
     ],
     "prompt_number": 34
    },
    {
     "cell_type": "code",
     "collapsed": false,
     "input": [
      "#Dependents column has 15 missing values\n",
      "type(train.Dependents[0])"
     ],
     "language": "python",
     "metadata": {},
     "outputs": [
      {
       "metadata": {},
       "output_type": "pyout",
       "prompt_number": 36,
       "text": [
        "str"
       ]
      }
     ],
     "prompt_number": 36
    },
    {
     "cell_type": "code",
     "collapsed": false,
     "input": [
      "# transform Dependents columns\n",
      "dep_map={'0':0,'1':1}\n",
      "train['Dependents']=train.Education.map(dep_map)\n",
      "test['Dependents']=test.Education.map(dep_map)\n",
      "train['Dependents']=train.Credit_History.fillna(1)\n",
      "test['Dependents']=train.Credit_History.fillna(1)"
     ],
     "language": "python",
     "metadata": {},
     "outputs": [],
     "prompt_number": 37
    },
    {
     "cell_type": "code",
     "collapsed": false,
     "input": [
      "# print train.head again\n",
      "train.head()"
     ],
     "language": "python",
     "metadata": {},
     "outputs": [
      {
       "html": [
        "<div style=\"max-width:1500px;overflow:auto;\">\n",
        "<table border=\"1\" class=\"dataframe\">\n",
        "  <thead>\n",
        "    <tr style=\"text-align: right;\">\n",
        "      <th></th>\n",
        "      <th>Gender</th>\n",
        "      <th>Married</th>\n",
        "      <th>Dependents</th>\n",
        "      <th>Education</th>\n",
        "      <th>Self_Employed</th>\n",
        "      <th>ApplicantIncome</th>\n",
        "      <th>CoapplicantIncome</th>\n",
        "      <th>LoanAmount</th>\n",
        "      <th>Loan_Amount_Term</th>\n",
        "      <th>Credit_History</th>\n",
        "      <th>Property_Area</th>\n",
        "      <th>Loan_Status</th>\n",
        "    </tr>\n",
        "    <tr>\n",
        "      <th>Loan_ID</th>\n",
        "      <th></th>\n",
        "      <th></th>\n",
        "      <th></th>\n",
        "      <th></th>\n",
        "      <th></th>\n",
        "      <th></th>\n",
        "      <th></th>\n",
        "      <th></th>\n",
        "      <th></th>\n",
        "      <th></th>\n",
        "      <th></th>\n",
        "      <th></th>\n",
        "    </tr>\n",
        "  </thead>\n",
        "  <tbody>\n",
        "    <tr>\n",
        "      <th>LP001002</th>\n",
        "      <td>0</td>\n",
        "      <td>1</td>\n",
        "      <td>1.0</td>\n",
        "      <td>1</td>\n",
        "      <td>0</td>\n",
        "      <td>5849</td>\n",
        "      <td>0.0</td>\n",
        "      <td>146.412162</td>\n",
        "      <td>360.0</td>\n",
        "      <td>1.0</td>\n",
        "      <td>1</td>\n",
        "      <td>Y</td>\n",
        "    </tr>\n",
        "    <tr>\n",
        "      <th>LP001003</th>\n",
        "      <td>0</td>\n",
        "      <td>0</td>\n",
        "      <td>1.0</td>\n",
        "      <td>1</td>\n",
        "      <td>0</td>\n",
        "      <td>4583</td>\n",
        "      <td>1508.0</td>\n",
        "      <td>128.000000</td>\n",
        "      <td>360.0</td>\n",
        "      <td>1.0</td>\n",
        "      <td>2</td>\n",
        "      <td>N</td>\n",
        "    </tr>\n",
        "    <tr>\n",
        "      <th>LP001005</th>\n",
        "      <td>0</td>\n",
        "      <td>0</td>\n",
        "      <td>1.0</td>\n",
        "      <td>1</td>\n",
        "      <td>1</td>\n",
        "      <td>3000</td>\n",
        "      <td>0.0</td>\n",
        "      <td>66.000000</td>\n",
        "      <td>360.0</td>\n",
        "      <td>1.0</td>\n",
        "      <td>1</td>\n",
        "      <td>Y</td>\n",
        "    </tr>\n",
        "    <tr>\n",
        "      <th>LP001006</th>\n",
        "      <td>0</td>\n",
        "      <td>0</td>\n",
        "      <td>1.0</td>\n",
        "      <td>2</td>\n",
        "      <td>0</td>\n",
        "      <td>2583</td>\n",
        "      <td>2358.0</td>\n",
        "      <td>120.000000</td>\n",
        "      <td>360.0</td>\n",
        "      <td>1.0</td>\n",
        "      <td>1</td>\n",
        "      <td>Y</td>\n",
        "    </tr>\n",
        "    <tr>\n",
        "      <th>LP001008</th>\n",
        "      <td>0</td>\n",
        "      <td>1</td>\n",
        "      <td>1.0</td>\n",
        "      <td>1</td>\n",
        "      <td>0</td>\n",
        "      <td>6000</td>\n",
        "      <td>0.0</td>\n",
        "      <td>141.000000</td>\n",
        "      <td>360.0</td>\n",
        "      <td>1.0</td>\n",
        "      <td>1</td>\n",
        "      <td>Y</td>\n",
        "    </tr>\n",
        "  </tbody>\n",
        "</table>\n",
        "</div>"
       ],
       "metadata": {},
       "output_type": "pyout",
       "prompt_number": 38,
       "text": [
        "          Gender  Married  Dependents  Education  Self_Employed  \\\n",
        "Loan_ID                                                           \n",
        "LP001002       0        1         1.0          1              0   \n",
        "LP001003       0        0         1.0          1              0   \n",
        "LP001005       0        0         1.0          1              1   \n",
        "LP001006       0        0         1.0          2              0   \n",
        "LP001008       0        1         1.0          1              0   \n",
        "\n",
        "          ApplicantIncome  CoapplicantIncome  LoanAmount  Loan_Amount_Term  \\\n",
        "Loan_ID                                                                      \n",
        "LP001002             5849                0.0  146.412162             360.0   \n",
        "LP001003             4583             1508.0  128.000000             360.0   \n",
        "LP001005             3000                0.0   66.000000             360.0   \n",
        "LP001006             2583             2358.0  120.000000             360.0   \n",
        "LP001008             6000                0.0  141.000000             360.0   \n",
        "\n",
        "          Credit_History  Property_Area Loan_Status  \n",
        "Loan_ID                                              \n",
        "LP001002             1.0              1           Y  \n",
        "LP001003             1.0              2           N  \n",
        "LP001005             1.0              1           Y  \n",
        "LP001006             1.0              1           Y  \n",
        "LP001008             1.0              1           Y  "
       ]
      }
     ],
     "prompt_number": 38
    },
    {
     "cell_type": "code",
     "collapsed": false,
     "input": [
      "# missing values have been replaced\n",
      "# print count of missing values once again\n",
      "print train.isnull().sum()"
     ],
     "language": "python",
     "metadata": {},
     "outputs": [
      {
       "output_type": "stream",
       "stream": "stdout",
       "text": [
        "Gender               0\n",
        "Married              0\n",
        "Dependents           0\n",
        "Education            0\n",
        "Self_Employed        0\n",
        "ApplicantIncome      0\n",
        "CoapplicantIncome    0\n",
        "LoanAmount           0\n",
        "Loan_Amount_Term     0\n",
        "Credit_History       0\n",
        "Property_Area        0\n",
        "Loan_Status          0\n",
        "dtype: int64\n"
       ]
      }
     ],
     "prompt_number": 39
    },
    {
     "cell_type": "heading",
     "level": 1,
     "metadata": {},
     "source": [
      "Data Visualization"
     ]
    },
    {
     "cell_type": "code",
     "collapsed": false,
     "input": [
      "#Gender: Female:1, Male:0\n",
      "sns.barplot(x='Gender',y='Loan_Status',data=train)"
     ],
     "language": "python",
     "metadata": {},
     "outputs": [
      {
       "metadata": {},
       "output_type": "pyout",
       "prompt_number": 25,
       "text": [
        "<matplotlib.axes.AxesSubplot at 0x111bcbe50>"
       ]
      },
      {
       "metadata": {},
       "output_type": "display_data",
       "png": "[encoded data removed]",
       "text": [
        "<matplotlib.figure.Figure at 0x10de01f90>"
       ]
      }
     ],
     "prompt_number": 25
    },
    {
     "cell_type": "code",
     "collapsed": false,
     "input": [
      "# a histogram would make more sense\n",
      "print \"Female:1, Male:0\"\n",
      "sns.distplot(train.Gender);"
     ],
     "language": "python",
     "metadata": {},
     "outputs": [
      {
       "output_type": "stream",
       "stream": "stdout",
       "text": [
        "Female:1, Male:0\n"
       ]
      },
      {
       "metadata": {},
       "output_type": "display_data",
       "png": "[encoded data removed]",
       "text": [
        "<matplotlib.figure.Figure at 0x10f0bb2d0>"
       ]
      }
     ],
     "prompt_number": 41
    },
    {
     "cell_type": "code",
     "collapsed": false,
     "input": [
      "print \"Female:1, Male:0\"\n",
      "print \"Y:1, N:0\"\n",
      "plt.hist([train.Gender, train.Loan_Status.map({'Y':1,'N':0})])\n",
      "plt.show()"
     ],
     "language": "python",
     "metadata": {},
     "outputs": [
      {
       "output_type": "stream",
       "stream": "stdout",
       "text": [
        "Female:1, Male:0\n",
        "Y:1, N:0\n"
       ]
      },
      {
       "metadata": {},
       "output_type": "display_data",
       "png": "[encoded data removed]",
       "text": [
        "<matplotlib.figure.Figure at 0x10f39e110>"
       ]
      }
     ],
     "prompt_number": 48
    },
    {
     "cell_type": "code",
     "collapsed": false,
     "input": [
      "train.describe()"
     ],
     "language": "python",
     "metadata": {},
     "outputs": [
      {
       "html": [
        "<div style=\"max-width:1500px;overflow:auto;\">\n",
        "<table border=\"1\" class=\"dataframe\">\n",
        "  <thead>\n",
        "    <tr style=\"text-align: right;\">\n",
        "      <th></th>\n",
        "      <th>Gender</th>\n",
        "      <th>Married</th>\n",
        "      <th>Dependents</th>\n",
        "      <th>Education</th>\n",
        "      <th>Self_Employed</th>\n",
        "      <th>ApplicantIncome</th>\n",
        "      <th>CoapplicantIncome</th>\n",
        "      <th>LoanAmount</th>\n",
        "      <th>Loan_Amount_Term</th>\n",
        "      <th>Credit_History</th>\n",
        "      <th>Property_Area</th>\n",
        "    </tr>\n",
        "  </thead>\n",
        "  <tbody>\n",
        "    <tr>\n",
        "      <th>count</th>\n",
        "      <td>614.000000</td>\n",
        "      <td>614.000000</td>\n",
        "      <td>614.000000</td>\n",
        "      <td>614.000000</td>\n",
        "      <td>614.000000</td>\n",
        "      <td>614.000000</td>\n",
        "      <td>614.000000</td>\n",
        "      <td>614.000000</td>\n",
        "      <td>614.000000</td>\n",
        "      <td>614.000000</td>\n",
        "      <td>614.000000</td>\n",
        "    </tr>\n",
        "    <tr>\n",
        "      <th>mean</th>\n",
        "      <td>0.182410</td>\n",
        "      <td>0.346906</td>\n",
        "      <td>0.855049</td>\n",
        "      <td>1.218241</td>\n",
        "      <td>0.133550</td>\n",
        "      <td>5403.459283</td>\n",
        "      <td>1621.245798</td>\n",
        "      <td>146.412162</td>\n",
        "      <td>342.000000</td>\n",
        "      <td>0.855049</td>\n",
        "      <td>2.050489</td>\n",
        "    </tr>\n",
        "    <tr>\n",
        "      <th>std</th>\n",
        "      <td>0.386497</td>\n",
        "      <td>0.476373</td>\n",
        "      <td>0.352339</td>\n",
        "      <td>0.413389</td>\n",
        "      <td>0.340446</td>\n",
        "      <td>6109.041673</td>\n",
        "      <td>2926.248369</td>\n",
        "      <td>84.037468</td>\n",
        "      <td>64.372489</td>\n",
        "      <td>0.352339</td>\n",
        "      <td>0.840875</td>\n",
        "    </tr>\n",
        "    <tr>\n",
        "      <th>min</th>\n",
        "      <td>0.000000</td>\n",
        "      <td>0.000000</td>\n",
        "      <td>0.000000</td>\n",
        "      <td>1.000000</td>\n",
        "      <td>0.000000</td>\n",
        "      <td>150.000000</td>\n",
        "      <td>0.000000</td>\n",
        "      <td>9.000000</td>\n",
        "      <td>12.000000</td>\n",
        "      <td>0.000000</td>\n",
        "      <td>1.000000</td>\n",
        "    </tr>\n",
        "    <tr>\n",
        "      <th>25%</th>\n",
        "      <td>0.000000</td>\n",
        "      <td>0.000000</td>\n",
        "      <td>1.000000</td>\n",
        "      <td>1.000000</td>\n",
        "      <td>0.000000</td>\n",
        "      <td>2877.500000</td>\n",
        "      <td>0.000000</td>\n",
        "      <td>100.250000</td>\n",
        "      <td>360.000000</td>\n",
        "      <td>1.000000</td>\n",
        "      <td>1.000000</td>\n",
        "    </tr>\n",
        "    <tr>\n",
        "      <th>50%</th>\n",
        "      <td>0.000000</td>\n",
        "      <td>0.000000</td>\n",
        "      <td>1.000000</td>\n",
        "      <td>1.000000</td>\n",
        "      <td>0.000000</td>\n",
        "      <td>3812.500000</td>\n",
        "      <td>1188.500000</td>\n",
        "      <td>129.000000</td>\n",
        "      <td>360.000000</td>\n",
        "      <td>1.000000</td>\n",
        "      <td>2.000000</td>\n",
        "    </tr>\n",
        "    <tr>\n",
        "      <th>75%</th>\n",
        "      <td>0.000000</td>\n",
        "      <td>1.000000</td>\n",
        "      <td>1.000000</td>\n",
        "      <td>1.000000</td>\n",
        "      <td>0.000000</td>\n",
        "      <td>5795.000000</td>\n",
        "      <td>2297.250000</td>\n",
        "      <td>164.750000</td>\n",
        "      <td>360.000000</td>\n",
        "      <td>1.000000</td>\n",
        "      <td>3.000000</td>\n",
        "    </tr>\n",
        "    <tr>\n",
        "      <th>max</th>\n",
        "      <td>1.000000</td>\n",
        "      <td>1.000000</td>\n",
        "      <td>1.000000</td>\n",
        "      <td>2.000000</td>\n",
        "      <td>1.000000</td>\n",
        "      <td>81000.000000</td>\n",
        "      <td>41667.000000</td>\n",
        "      <td>700.000000</td>\n",
        "      <td>480.000000</td>\n",
        "      <td>1.000000</td>\n",
        "      <td>3.000000</td>\n",
        "    </tr>\n",
        "  </tbody>\n",
        "</table>\n",
        "</div>"
       ],
       "metadata": {},
       "output_type": "pyout",
       "prompt_number": 50,
       "text": [
        "           Gender     Married  Dependents   Education  Self_Employed  \\\n",
        "count  614.000000  614.000000  614.000000  614.000000     614.000000   \n",
        "mean     0.182410    0.346906    0.855049    1.218241       0.133550   \n",
        "std      0.386497    0.476373    0.352339    0.413389       0.340446   \n",
        "min      0.000000    0.000000    0.000000    1.000000       0.000000   \n",
        "25%      0.000000    0.000000    1.000000    1.000000       0.000000   \n",
        "50%      0.000000    0.000000    1.000000    1.000000       0.000000   \n",
        "75%      0.000000    1.000000    1.000000    1.000000       0.000000   \n",
        "max      1.000000    1.000000    1.000000    2.000000       1.000000   \n",
        "\n",
        "       ApplicantIncome  CoapplicantIncome  LoanAmount  Loan_Amount_Term  \\\n",
        "count       614.000000         614.000000  614.000000        614.000000   \n",
        "mean       5403.459283        1621.245798  146.412162        342.000000   \n",
        "std        6109.041673        2926.248369   84.037468         64.372489   \n",
        "min         150.000000           0.000000    9.000000         12.000000   \n",
        "25%        2877.500000           0.000000  100.250000        360.000000   \n",
        "50%        3812.500000        1188.500000  129.000000        360.000000   \n",
        "75%        5795.000000        2297.250000  164.750000        360.000000   \n",
        "max       81000.000000       41667.000000  700.000000        480.000000   \n",
        "\n",
        "       Credit_History  Property_Area  \n",
        "count      614.000000     614.000000  \n",
        "mean         0.855049       2.050489  \n",
        "std          0.352339       0.840875  \n",
        "min          0.000000       1.000000  \n",
        "25%          1.000000       1.000000  \n",
        "50%          1.000000       2.000000  \n",
        "75%          1.000000       3.000000  \n",
        "max          1.000000       3.000000  "
       ]
      }
     ],
     "prompt_number": 50
    },
    {
     "cell_type": "code",
     "collapsed": false,
     "input": [
      "#Married: No:1, Yes:0\n",
      "sns.barplot(x='Married',y='Loan_Status',data=train)"
     ],
     "language": "python",
     "metadata": {},
     "outputs": [
      {
       "metadata": {},
       "output_type": "pyout",
       "prompt_number": 51,
       "text": [
        "<matplotlib.axes.AxesSubplot at 0x10f3f4550>"
       ]
      },
      {
       "metadata": {},
       "output_type": "display_data",
       "png": "[encoded data removed]",
       "text": [
        "<matplotlib.figure.Figure at 0x10f259310>"
       ]
      }
     ],
     "prompt_number": 51
    },
    {
     "cell_type": "code",
     "collapsed": false,
     "input": [
      "#Education:'Graduate':1,'Not Graduate':2\n",
      "sns.barplot(x='Education',y='Loan_Status',data=train)"
     ],
     "language": "python",
     "metadata": {},
     "outputs": [
      {
       "metadata": {},
       "output_type": "pyout",
       "prompt_number": 52,
       "text": [
        "<matplotlib.axes.AxesSubplot at 0x10f526e50>"
       ]
      },
      {
       "metadata": {},
       "output_type": "display_data",
       "png": "[encoded data removed]",
       "text": [
        "<matplotlib.figure.Figure at 0x10f52b050>"
       ]
      }
     ],
     "prompt_number": 52
    },
    {
     "cell_type": "code",
     "collapsed": false,
     "input": [
      "sns.barplot(x='Property_Area',y='Loan_Status',data=train)"
     ],
     "language": "python",
     "metadata": {},
     "outputs": [
      {
       "metadata": {},
       "output_type": "pyout",
       "prompt_number": 53,
       "text": [
        "<matplotlib.axes.AxesSubplot at 0x10f3f73d0>"
       ]
      },
      {
       "metadata": {},
       "output_type": "display_data",
       "png": "[encoded data removed]",
       "text": [
        "<matplotlib.figure.Figure at 0x10f6771d0>"
       ]
      }
     ],
     "prompt_number": 53
    },
    {
     "cell_type": "code",
     "collapsed": false,
     "input": [
      "sns.barplot(x='Credit_History',y='Loan_Status',data=train)"
     ],
     "language": "python",
     "metadata": {},
     "outputs": [
      {
       "metadata": {},
       "output_type": "pyout",
       "prompt_number": 54,
       "text": [
        "<matplotlib.axes.AxesSubplot at 0x10f6bf9d0>"
       ]
      },
      {
       "metadata": {},
       "output_type": "display_data",
       "png": "[encoded data removed]",
       "text": [
        "<matplotlib.figure.Figure at 0x10f52bf90>"
       ]
      }
     ],
     "prompt_number": 54
    },
    {
     "cell_type": "code",
     "collapsed": false,
     "input": [
      "sns.boxplot(x='ApplicantIncome',y='Loan_Status',data=train)"
     ],
     "language": "python",
     "metadata": {},
     "outputs": [
      {
       "metadata": {},
       "output_type": "pyout",
       "prompt_number": 55,
       "text": [
        "<matplotlib.axes.AxesSubplot at 0x10f75eb90>"
       ]
      },
      {
       "metadata": {},
       "output_type": "display_data",
       "png": "[encoded data removed]",
       "text": [
        "<matplotlib.figure.Figure at 0x10f3e48d0>"
       ]
      }
     ],
     "prompt_number": 55
    },
    {
     "cell_type": "code",
     "collapsed": false,
     "input": [
      "sns.barplot(x='ApplicantIncome',y='Loan_Status',data=train)"
     ],
     "language": "python",
     "metadata": {},
     "outputs": [
      {
       "metadata": {},
       "output_type": "pyout",
       "prompt_number": 56,
       "text": [
        "<matplotlib.axes.AxesSubplot at 0x10f9f8250>"
       ]
      },
      {
       "metadata": {},
       "output_type": "display_data",
       "png": "[encoded data removed]",
       "text": [
        "<matplotlib.figure.Figure at 0x10f681990>"
       ]
      }
     ],
     "prompt_number": 56
    },
    {
     "cell_type": "code",
     "collapsed": false,
     "input": [
      "sns.boxplot(x='CoapplicantIncome',y='Loan_Status',data=train)"
     ],
     "language": "python",
     "metadata": {},
     "outputs": [
      {
       "metadata": {},
       "output_type": "pyout",
       "prompt_number": 57,
       "text": [
        "<matplotlib.axes.AxesSubplot at 0x10fa57550>"
       ]
      },
      {
       "metadata": {},
       "output_type": "display_data",
       "png": "[encoded data removed]",
       "text": [
        "<matplotlib.figure.Figure at 0x10fb22e50>"
       ]
      }
     ],
     "prompt_number": 57
    },
    {
     "cell_type": "code",
     "collapsed": false,
     "input": [
      "sns.boxplot(x='Loan_Amount_Term',y='Loan_Status',data=train)"
     ],
     "language": "python",
     "metadata": {},
     "outputs": [
      {
       "metadata": {},
       "output_type": "pyout",
       "prompt_number": 58,
       "text": [
        "<matplotlib.axes.AxesSubplot at 0x10fc7a290>"
       ]
      },
      {
       "metadata": {},
       "output_type": "display_data",
       "png": "[encoded data removed]",
       "text": [
        "<matplotlib.figure.Figure at 0x10fc28390>"
       ]
      }
     ],
     "prompt_number": 58
    },
    {
     "cell_type": "code",
     "collapsed": false,
     "input": [
      "train.head()"
     ],
     "language": "python",
     "metadata": {},
     "outputs": [
      {
       "html": [
        "<div style=\"max-width:1500px;overflow:auto;\">\n",
        "<table border=\"1\" class=\"dataframe\">\n",
        "  <thead>\n",
        "    <tr style=\"text-align: right;\">\n",
        "      <th></th>\n",
        "      <th>Gender</th>\n",
        "      <th>Married</th>\n",
        "      <th>Dependents</th>\n",
        "      <th>Education</th>\n",
        "      <th>Self_Employed</th>\n",
        "      <th>ApplicantIncome</th>\n",
        "      <th>CoapplicantIncome</th>\n",
        "      <th>LoanAmount</th>\n",
        "      <th>Loan_Amount_Term</th>\n",
        "      <th>Credit_History</th>\n",
        "      <th>Property_Area</th>\n",
        "      <th>Loan_Status</th>\n",
        "    </tr>\n",
        "    <tr>\n",
        "      <th>Loan_ID</th>\n",
        "      <th></th>\n",
        "      <th></th>\n",
        "      <th></th>\n",
        "      <th></th>\n",
        "      <th></th>\n",
        "      <th></th>\n",
        "      <th></th>\n",
        "      <th></th>\n",
        "      <th></th>\n",
        "      <th></th>\n",
        "      <th></th>\n",
        "      <th></th>\n",
        "    </tr>\n",
        "  </thead>\n",
        "  <tbody>\n",
        "    <tr>\n",
        "      <th>LP001002</th>\n",
        "      <td>0</td>\n",
        "      <td>1</td>\n",
        "      <td>1.0</td>\n",
        "      <td>1</td>\n",
        "      <td>0</td>\n",
        "      <td>5849</td>\n",
        "      <td>0.0</td>\n",
        "      <td>146.412162</td>\n",
        "      <td>360.0</td>\n",
        "      <td>1.0</td>\n",
        "      <td>1</td>\n",
        "      <td>Y</td>\n",
        "    </tr>\n",
        "    <tr>\n",
        "      <th>LP001003</th>\n",
        "      <td>0</td>\n",
        "      <td>0</td>\n",
        "      <td>1.0</td>\n",
        "      <td>1</td>\n",
        "      <td>0</td>\n",
        "      <td>4583</td>\n",
        "      <td>1508.0</td>\n",
        "      <td>128.000000</td>\n",
        "      <td>360.0</td>\n",
        "      <td>1.0</td>\n",
        "      <td>2</td>\n",
        "      <td>N</td>\n",
        "    </tr>\n",
        "    <tr>\n",
        "      <th>LP001005</th>\n",
        "      <td>0</td>\n",
        "      <td>0</td>\n",
        "      <td>1.0</td>\n",
        "      <td>1</td>\n",
        "      <td>1</td>\n",
        "      <td>3000</td>\n",
        "      <td>0.0</td>\n",
        "      <td>66.000000</td>\n",
        "      <td>360.0</td>\n",
        "      <td>1.0</td>\n",
        "      <td>1</td>\n",
        "      <td>Y</td>\n",
        "    </tr>\n",
        "    <tr>\n",
        "      <th>LP001006</th>\n",
        "      <td>0</td>\n",
        "      <td>0</td>\n",
        "      <td>1.0</td>\n",
        "      <td>2</td>\n",
        "      <td>0</td>\n",
        "      <td>2583</td>\n",
        "      <td>2358.0</td>\n",
        "      <td>120.000000</td>\n",
        "      <td>360.0</td>\n",
        "      <td>1.0</td>\n",
        "      <td>1</td>\n",
        "      <td>Y</td>\n",
        "    </tr>\n",
        "    <tr>\n",
        "      <th>LP001008</th>\n",
        "      <td>0</td>\n",
        "      <td>1</td>\n",
        "      <td>1.0</td>\n",
        "      <td>1</td>\n",
        "      <td>0</td>\n",
        "      <td>6000</td>\n",
        "      <td>0.0</td>\n",
        "      <td>141.000000</td>\n",
        "      <td>360.0</td>\n",
        "      <td>1.0</td>\n",
        "      <td>1</td>\n",
        "      <td>Y</td>\n",
        "    </tr>\n",
        "  </tbody>\n",
        "</table>\n",
        "</div>"
       ],
       "metadata": {},
       "output_type": "pyout",
       "prompt_number": 59,
       "text": [
        "          Gender  Married  Dependents  Education  Self_Employed  \\\n",
        "Loan_ID                                                           \n",
        "LP001002       0        1         1.0          1              0   \n",
        "LP001003       0        0         1.0          1              0   \n",
        "LP001005       0        0         1.0          1              1   \n",
        "LP001006       0        0         1.0          2              0   \n",
        "LP001008       0        1         1.0          1              0   \n",
        "\n",
        "          ApplicantIncome  CoapplicantIncome  LoanAmount  Loan_Amount_Term  \\\n",
        "Loan_ID                                                                      \n",
        "LP001002             5849                0.0  146.412162             360.0   \n",
        "LP001003             4583             1508.0  128.000000             360.0   \n",
        "LP001005             3000                0.0   66.000000             360.0   \n",
        "LP001006             2583             2358.0  120.000000             360.0   \n",
        "LP001008             6000                0.0  141.000000             360.0   \n",
        "\n",
        "          Credit_History  Property_Area Loan_Status  \n",
        "Loan_ID                                              \n",
        "LP001002             1.0              1           Y  \n",
        "LP001003             1.0              2           N  \n",
        "LP001005             1.0              1           Y  \n",
        "LP001006             1.0              1           Y  \n",
        "LP001008             1.0              1           Y  "
       ]
      }
     ],
     "prompt_number": 59
    },
    {
     "cell_type": "code",
     "collapsed": false,
     "input": [
      "features = train.columns.drop(['Loan_Status'])\n",
      "\n",
      "labels = train.Loan_Status\n",
      "train = train[features]\n",
      "test = test[features]"
     ],
     "language": "python",
     "metadata": {},
     "outputs": [],
     "prompt_number": 60
    },
    {
     "cell_type": "code",
     "collapsed": false,
     "input": [
      "#this step is not needed as index column was chosen when csv file was read\n",
      "#train_new.index=train_new[\"Loan_ID\"]\n",
      "#test_new.index=test_new[\"Loan_ID\"]"
     ],
     "language": "python",
     "metadata": {},
     "outputs": [],
     "prompt_number": 61
    },
    {
     "cell_type": "code",
     "collapsed": false,
     "input": [
      "X_train, X_test, y_train, y_test = train_test_split(train,labels,test_size=0.2,random_state=37)"
     ],
     "language": "python",
     "metadata": {},
     "outputs": [],
     "prompt_number": 62
    },
    {
     "cell_type": "code",
     "collapsed": false,
     "input": [
      "X_train.shape, X_test.shape"
     ],
     "language": "python",
     "metadata": {},
     "outputs": [
      {
       "metadata": {},
       "output_type": "pyout",
       "prompt_number": 63,
       "text": [
        "((491, 11), (123, 11))"
       ]
      }
     ],
     "prompt_number": 63
    },
    {
     "cell_type": "code",
     "collapsed": false,
     "input": [
      "X_train.head()"
     ],
     "language": "python",
     "metadata": {},
     "outputs": [
      {
       "html": [
        "<div style=\"max-width:1500px;overflow:auto;\">\n",
        "<table border=\"1\" class=\"dataframe\">\n",
        "  <thead>\n",
        "    <tr style=\"text-align: right;\">\n",
        "      <th></th>\n",
        "      <th>Gender</th>\n",
        "      <th>Married</th>\n",
        "      <th>Dependents</th>\n",
        "      <th>Education</th>\n",
        "      <th>Self_Employed</th>\n",
        "      <th>ApplicantIncome</th>\n",
        "      <th>CoapplicantIncome</th>\n",
        "      <th>LoanAmount</th>\n",
        "      <th>Loan_Amount_Term</th>\n",
        "      <th>Credit_History</th>\n",
        "      <th>Property_Area</th>\n",
        "    </tr>\n",
        "    <tr>\n",
        "      <th>Loan_ID</th>\n",
        "      <th></th>\n",
        "      <th></th>\n",
        "      <th></th>\n",
        "      <th></th>\n",
        "      <th></th>\n",
        "      <th></th>\n",
        "      <th></th>\n",
        "      <th></th>\n",
        "      <th></th>\n",
        "      <th></th>\n",
        "      <th></th>\n",
        "    </tr>\n",
        "  </thead>\n",
        "  <tbody>\n",
        "    <tr>\n",
        "      <th>LP001519</th>\n",
        "      <td>1</td>\n",
        "      <td>1</td>\n",
        "      <td>1.0</td>\n",
        "      <td>1</td>\n",
        "      <td>0</td>\n",
        "      <td>10000</td>\n",
        "      <td>1666.0</td>\n",
        "      <td>225.0</td>\n",
        "      <td>360.0</td>\n",
        "      <td>1.0</td>\n",
        "      <td>2</td>\n",
        "    </tr>\n",
        "    <tr>\n",
        "      <th>LP001543</th>\n",
        "      <td>0</td>\n",
        "      <td>0</td>\n",
        "      <td>1.0</td>\n",
        "      <td>1</td>\n",
        "      <td>0</td>\n",
        "      <td>9538</td>\n",
        "      <td>0.0</td>\n",
        "      <td>187.0</td>\n",
        "      <td>360.0</td>\n",
        "      <td>1.0</td>\n",
        "      <td>1</td>\n",
        "    </tr>\n",
        "    <tr>\n",
        "      <th>LP001877</th>\n",
        "      <td>0</td>\n",
        "      <td>0</td>\n",
        "      <td>1.0</td>\n",
        "      <td>1</td>\n",
        "      <td>0</td>\n",
        "      <td>4708</td>\n",
        "      <td>1387.0</td>\n",
        "      <td>150.0</td>\n",
        "      <td>360.0</td>\n",
        "      <td>1.0</td>\n",
        "      <td>3</td>\n",
        "    </tr>\n",
        "    <tr>\n",
        "      <th>LP002234</th>\n",
        "      <td>0</td>\n",
        "      <td>1</td>\n",
        "      <td>1.0</td>\n",
        "      <td>1</td>\n",
        "      <td>1</td>\n",
        "      <td>7167</td>\n",
        "      <td>0.0</td>\n",
        "      <td>128.0</td>\n",
        "      <td>360.0</td>\n",
        "      <td>1.0</td>\n",
        "      <td>1</td>\n",
        "    </tr>\n",
        "    <tr>\n",
        "      <th>LP002776</th>\n",
        "      <td>1</td>\n",
        "      <td>1</td>\n",
        "      <td>0.0</td>\n",
        "      <td>1</td>\n",
        "      <td>0</td>\n",
        "      <td>5000</td>\n",
        "      <td>0.0</td>\n",
        "      <td>103.0</td>\n",
        "      <td>360.0</td>\n",
        "      <td>0.0</td>\n",
        "      <td>3</td>\n",
        "    </tr>\n",
        "  </tbody>\n",
        "</table>\n",
        "</div>"
       ],
       "metadata": {},
       "output_type": "pyout",
       "prompt_number": 65,
       "text": [
        "          Gender  Married  Dependents  Education  Self_Employed  \\\n",
        "Loan_ID                                                           \n",
        "LP001519       1        1         1.0          1              0   \n",
        "LP001543       0        0         1.0          1              0   \n",
        "LP001877       0        0         1.0          1              0   \n",
        "LP002234       0        1         1.0          1              1   \n",
        "LP002776       1        1         0.0          1              0   \n",
        "\n",
        "          ApplicantIncome  CoapplicantIncome  LoanAmount  Loan_Amount_Term  \\\n",
        "Loan_ID                                                                      \n",
        "LP001519            10000             1666.0       225.0             360.0   \n",
        "LP001543             9538                0.0       187.0             360.0   \n",
        "LP001877             4708             1387.0       150.0             360.0   \n",
        "LP002234             7167                0.0       128.0             360.0   \n",
        "LP002776             5000                0.0       103.0             360.0   \n",
        "\n",
        "          Credit_History  Property_Area  \n",
        "Loan_ID                                  \n",
        "LP001519             1.0              2  \n",
        "LP001543             1.0              1  \n",
        "LP001877             1.0              3  \n",
        "LP002234             1.0              1  \n",
        "LP002776             0.0              3  "
       ]
      }
     ],
     "prompt_number": 65
    },
    {
     "cell_type": "code",
     "collapsed": false,
     "input": [
      "#Dependents column is giving problem as it is string\n",
      "#was converted to numeric"
     ],
     "language": "python",
     "metadata": {},
     "outputs": [],
     "prompt_number": 66
    },
    {
     "cell_type": "code",
     "collapsed": false,
     "input": [
      "from sklearn.preprocessing import StandardScaler\n",
      "\n",
      "stdsc=StandardScaler()\n",
      "X_train_std =stdsc.fit_transform(X_train)\n",
      "X_test_std =stdsc.fit_transform(X_test)"
     ],
     "language": "python",
     "metadata": {},
     "outputs": [],
     "prompt_number": 67
    },
    {
     "cell_type": "heading",
     "level": 1,
     "metadata": {},
     "source": [
      "Modelling"
     ]
    },
    {
     "cell_type": "markdown",
     "metadata": {},
     "source": [
      "Random Forest"
     ]
    },
    {
     "cell_type": "code",
     "collapsed": true,
     "input": [
      "forest = RandomForestClassifier(n_estimators=700,n_jobs=-1,criterion='entropy')\n",
      "forest.fit(X_train,y_train)"
     ],
     "language": "python",
     "metadata": {},
     "outputs": [
      {
       "metadata": {},
       "output_type": "pyout",
       "prompt_number": 68,
       "text": [
        "RandomForestClassifier(bootstrap=True, class_weight=None, criterion='entropy',\n",
        "            max_depth=None, max_features='auto', max_leaf_nodes=None,\n",
        "            min_impurity_split=1e-07, min_samples_leaf=1,\n",
        "            min_samples_split=2, min_weight_fraction_leaf=0.0,\n",
        "            n_estimators=700, n_jobs=-1, oob_score=False,\n",
        "            random_state=None, verbose=0, warm_start=False)"
       ]
      }
     ],
     "prompt_number": 68
    },
    {
     "cell_type": "code",
     "collapsed": false,
     "input": [
      "#use predict function to predict y values for test set\n",
      "predictions_forest=forest.predict(X_test)"
     ],
     "language": "python",
     "metadata": {},
     "outputs": [],
     "prompt_number": 69
    },
    {
     "cell_type": "code",
     "collapsed": false,
     "input": [
      "acc=accuracy_score(predictions_forest,y_test)\n",
      "print \"RandomForest accuracy: \",acc"
     ],
     "language": "python",
     "metadata": {},
     "outputs": [
      {
       "output_type": "stream",
       "stream": "stdout",
       "text": [
        "RandomForest accuracy:  0.747967479675\n"
       ]
      }
     ],
     "prompt_number": 70
    },
    {
     "cell_type": "code",
     "collapsed": false,
     "input": [
      "# same code as above with a few parameters changed\n",
      "forest = RandomForestClassifier(n_estimators=750,n_jobs=4,criterion='gini')\n",
      "forest.fit(X_train,y_train)\n",
      "predictions_forest=forest.predict(X_test)\n",
      "acc=accuracy_score(predictions_forest,y_test)\n",
      "print \"RandomForest accuracy: \",acc"
     ],
     "language": "python",
     "metadata": {},
     "outputs": [
      {
       "output_type": "stream",
       "stream": "stdout",
       "text": [
        "RandomForest accuracy:  0.747967479675\n"
       ]
      }
     ],
     "prompt_number": 71
    },
    {
     "cell_type": "heading",
     "level": 1,
     "metadata": {},
     "source": [
      "Decision Tree Classifier Using Adaboost"
     ]
    },
    {
     "cell_type": "code",
     "collapsed": false,
     "input": [
      "from sklearn.ensemble import AdaBoostClassifier\n",
      "from sklearn.tree import DecisionTreeClassifier\n",
      "\n",
      "tree = DecisionTreeClassifier(criterion='entropy',max_depth=2)\n",
      "ada = AdaBoostClassifier(base_estimator=tree,n_estimators=500,learning_rate=0.1,random_state=31)"
     ],
     "language": "python",
     "metadata": {},
     "outputs": [],
     "prompt_number": 72
    },
    {
     "cell_type": "code",
     "collapsed": false,
     "input": [
      "from sklearn.ensemble import VotingClassifier\n",
      "\n",
      "eclf = VotingClassifier(estimators=[('forest',forest),('adaboost',ada)],voting='hard')\n",
      "\n",
      "eclf.fit(X_train,y_train)\n",
      "predictions_eclf=eclf.predict(X_test)\n",
      "acc=accuracy_score(predictions_eclf,y_test)\n",
      "print \"VotingClassifier accuracy: \",acc"
     ],
     "language": "python",
     "metadata": {},
     "outputs": [
      {
       "output_type": "stream",
       "stream": "stdout",
       "text": [
        "VotingClassifier accuracy:  0.682926829268\n"
       ]
      }
     ],
     "prompt_number": 73
    },
    {
     "cell_type": "code",
     "collapsed": false,
     "input": [
      "predictions_eclf"
     ],
     "language": "python",
     "metadata": {},
     "outputs": [
      {
       "metadata": {},
       "output_type": "pyout",
       "prompt_number": 74,
       "text": [
        "array(['N', 'Y', 'Y', 'N', 'N', 'Y', 'N', 'Y', 'Y', 'Y', 'Y', 'Y', 'Y',\n",
        "       'Y', 'Y', 'N', 'Y', 'Y', 'Y', 'Y', 'Y', 'Y', 'N', 'Y', 'N', 'Y',\n",
        "       'Y', 'Y', 'Y', 'Y', 'Y', 'N', 'Y', 'N', 'N', 'Y', 'N', 'Y', 'Y',\n",
        "       'Y', 'Y', 'Y', 'N', 'Y', 'N', 'Y', 'Y', 'N', 'N', 'N', 'Y', 'Y',\n",
        "       'Y', 'Y', 'Y', 'N', 'N', 'Y', 'Y', 'Y', 'Y', 'Y', 'N', 'N', 'Y',\n",
        "       'Y', 'N', 'Y', 'Y', 'N', 'Y', 'Y', 'Y', 'Y', 'Y', 'Y', 'N', 'Y',\n",
        "       'Y', 'Y', 'Y', 'Y', 'Y', 'Y', 'Y', 'Y', 'Y', 'Y', 'N', 'Y', 'N',\n",
        "       'Y', 'Y', 'N', 'N', 'Y', 'Y', 'Y', 'Y', 'N', 'Y', 'Y', 'Y', 'Y',\n",
        "       'Y', 'Y', 'N', 'Y', 'Y', 'Y', 'N', 'Y', 'Y', 'Y', 'Y', 'Y', 'Y',\n",
        "       'Y', 'Y', 'N', 'N', 'Y', 'Y'], dtype=object)"
       ]
      }
     ],
     "prompt_number": 74
    },
    {
     "cell_type": "heading",
     "level": 1,
     "metadata": {},
     "source": [
      "Logistic Regression"
     ]
    },
    {
     "cell_type": "code",
     "collapsed": false,
     "input": [
      "from sklearn.linear_model import LogisticRegression\n",
      "\n",
      "lr=LogisticRegression(penalty='l1',C=0.1)\n",
      "lr.fit(X_train_std,y_train)\n",
      "'Training accuracy:',lr.score(X_train_std,y_train)"
     ],
     "language": "python",
     "metadata": {},
     "outputs": [
      {
       "metadata": {},
       "output_type": "pyout",
       "prompt_number": 115,
       "text": [
        "('Training accuracy:', 0.8207739307535642)"
       ]
      }
     ],
     "prompt_number": 115
    },
    {
     "cell_type": "code",
     "collapsed": false,
     "input": [
      "'Test accuracy:',lr.score(X_test_std,y_test)"
     ],
     "language": "python",
     "metadata": {},
     "outputs": [
      {
       "metadata": {},
       "output_type": "pyout",
       "prompt_number": 116,
       "text": [
        "('Test accuracy:', 0.76422764227642281)"
       ]
      }
     ],
     "prompt_number": 116
    },
    {
     "cell_type": "code",
     "collapsed": false,
     "input": [
      "lr.intercept_"
     ],
     "language": "python",
     "metadata": {},
     "outputs": [
      {
       "metadata": {},
       "output_type": "pyout",
       "prompt_number": 117,
       "text": [
        "array([ 0.74714951])"
       ]
      }
     ],
     "prompt_number": 117
    },
    {
     "cell_type": "code",
     "collapsed": false,
     "input": [
      "lr.coef_[0]"
     ],
     "language": "python",
     "metadata": {},
     "outputs": [
      {
       "metadata": {},
       "output_type": "pyout",
       "prompt_number": 118,
       "text": [
        "array([ 0.        , -0.10336591, -0.03247974,  0.        ,  0.        ,\n",
        "       -0.01651077, -0.05830048,  0.        ,  1.17724007,  0.10614001])"
       ]
      }
     ],
     "prompt_number": 118
    },
    {
     "cell_type": "code",
     "collapsed": false,
     "input": [
      "import matplotlib.pyplot as plt\n",
      "fig = plt.figure()\n",
      "ax = plt.subplot(111)\n",
      "\n",
      "colors = ['blue', 'green', 'red', 'cyan']\n",
      "\n",
      "weights, params = [], []\n",
      "for c in np.arange(-4, 6):\n",
      "    lr = LogisticRegression(penalty='l1', C=10**c, random_state=0)\n",
      "    lr.fit(X_train_std, y_train)\n",
      "    weights.append(lr.coef_[0])\n",
      "    params.append(10**c)\n",
      "\n",
      "weights = np.array(weights)\n",
      "\n",
      "for column, color in zip(range(weights.shape[1]), colors):\n",
      "    plt.plot(params, weights[:, column],label=X_train.columns[column],color=color)\n",
      "    \n",
      "plt.axhline(0, color='black', linestyle='--', linewidth=3)\n",
      "plt.xlim([10**(-5), 10**5])\n",
      "plt.ylabel('weight coefficient')\n",
      "plt.xlabel('C')\n",
      "plt.xscale('log')\n",
      "plt.legend(loc='upper left')\n",
      "ax.legend(loc='upper center', bbox_to_anchor=(1.38, 1.03),ncol=1, fancybox=True)\n",
      "plt.show()"
     ],
     "language": "python",
     "metadata": {},
     "outputs": [
      {
       "ename": "AttributeError",
       "evalue": "'numpy.ndarray' object has no attribute 'columns'",
       "output_type": "pyerr",
       "traceback": [
        "\u001b[0;31m---------------------------------------------------------------------------\u001b[0m\n\u001b[0;31mAttributeError\u001b[0m                            Traceback (most recent call last)",
        "\u001b[0;32m<ipython-input-126-a549d0c037c3>\u001b[0m in \u001b[0;36m<module>\u001b[0;34m()\u001b[0m\n\u001b[1;32m     15\u001b[0m \u001b[0;34m\u001b[0m\u001b[0m\n\u001b[1;32m     16\u001b[0m \u001b[0;32mfor\u001b[0m \u001b[0mcolumn\u001b[0m\u001b[0;34m,\u001b[0m \u001b[0mcolor\u001b[0m \u001b[0;32min\u001b[0m \u001b[0mzip\u001b[0m\u001b[0;34m(\u001b[0m\u001b[0mrange\u001b[0m\u001b[0;34m(\u001b[0m\u001b[0mweights\u001b[0m\u001b[0;34m.\u001b[0m\u001b[0mshape\u001b[0m\u001b[0;34m[\u001b[0m\u001b[0;36m1\u001b[0m\u001b[0;34m]\u001b[0m\u001b[0;34m)\u001b[0m\u001b[0;34m,\u001b[0m \u001b[0mcolors\u001b[0m\u001b[0;34m)\u001b[0m\u001b[0;34m:\u001b[0m\u001b[0;34m\u001b[0m\u001b[0m\n\u001b[0;32m---> 17\u001b[0;31m     \u001b[0mplt\u001b[0m\u001b[0;34m.\u001b[0m\u001b[0mplot\u001b[0m\u001b[0;34m(\u001b[0m\u001b[0mparams\u001b[0m\u001b[0;34m,\u001b[0m \u001b[0mweights\u001b[0m\u001b[0;34m[\u001b[0m\u001b[0;34m:\u001b[0m\u001b[0;34m,\u001b[0m \u001b[0mcolumn\u001b[0m\u001b[0;34m]\u001b[0m\u001b[0;34m,\u001b[0m\u001b[0mlabel\u001b[0m\u001b[0;34m=\u001b[0m\u001b[0mX_train\u001b[0m\u001b[0;34m.\u001b[0m\u001b[0mcolumns\u001b[0m\u001b[0;34m[\u001b[0m\u001b[0mcolumn\u001b[0m\u001b[0;34m]\u001b[0m\u001b[0;34m,\u001b[0m\u001b[0mcolor\u001b[0m\u001b[0;34m=\u001b[0m\u001b[0mcolor\u001b[0m\u001b[0;34m)\u001b[0m\u001b[0;34m\u001b[0m\u001b[0m\n\u001b[0m\u001b[1;32m     18\u001b[0m \u001b[0;34m\u001b[0m\u001b[0m\n\u001b[1;32m     19\u001b[0m \u001b[0mplt\u001b[0m\u001b[0;34m.\u001b[0m\u001b[0maxhline\u001b[0m\u001b[0;34m(\u001b[0m\u001b[0;36m0\u001b[0m\u001b[0;34m,\u001b[0m \u001b[0mcolor\u001b[0m\u001b[0;34m=\u001b[0m\u001b[0;34m'black'\u001b[0m\u001b[0;34m,\u001b[0m \u001b[0mlinestyle\u001b[0m\u001b[0;34m=\u001b[0m\u001b[0;34m'--'\u001b[0m\u001b[0;34m,\u001b[0m \u001b[0mlinewidth\u001b[0m\u001b[0;34m=\u001b[0m\u001b[0;36m3\u001b[0m\u001b[0;34m)\u001b[0m\u001b[0;34m\u001b[0m\u001b[0m\n",
        "\u001b[0;31mAttributeError\u001b[0m: 'numpy.ndarray' object has no attribute 'columns'"
       ]
      },
      {
       "metadata": {},
       "output_type": "display_data",
       "png": "[encoded data removed]",
       "text": [
        "<matplotlib.figure.Figure at 0x112b1a7d0>"
       ]
      }
     ],
     "prompt_number": 126
    },
    {
     "cell_type": "code",
     "collapsed": false,
     "input": [],
     "language": "python",
     "metadata": {},
     "outputs": []
    },
    {
     "cell_type": "code",
     "collapsed": false,
     "input": [],
     "language": "python",
     "metadata": {},
     "outputs": []
    },
    {
     "cell_type": "code",
     "collapsed": false,
     "input": [
      "from sklearn.base import clone\n",
      "from itertools import combinations\n",
      "import numpy as np\n",
      "from sklearn.cross_validation import train_test_split\n",
      "from sklearn.metrics import accuracy_score\n",
      "\n",
      "class SBS():\n",
      "    def __init__(self, estimator, k_features, scoring=accuracy_score,\n",
      "    test_size=0.25, random_state=1):\n",
      "        self.scoring = scoring\n",
      "        self.estimator = clone(estimator)\n",
      "        self.k_features = k_features\n",
      "        self.test_size = test_size\n",
      "        self.random_state = random_state\n",
      "\n",
      "    def fit(self, X, y):\n",
      "        X_train, X_test, y_train, y_test = \\\n",
      "        train_test_split(X, y, test_size=self.test_size, \n",
      "        random_state=self.random_state)\n",
      "\n",
      "        dim = X_train.shape[1]\n",
      "        self.indices_ = tuple(range(dim))\n",
      "        self.subsets_ = [self.indices_]\n",
      "        score = self._calc_score(X_train, y_train, \n",
      "        X_test, y_test, self.indices_)\n",
      "        self.scores_ = [score]\n",
      "\n",
      "\n",
      "        while dim > self.k_features:\n",
      "            scores = []\n",
      "            subsets = []\n",
      "\n",
      "        for p in combinations(self.indices_, r=dim-1):\n",
      "            score = self._calc_score(X_train, y_train, \n",
      "            X_test, y_test, p)\n",
      "            scores.append(score)\n",
      "            subsets.append(p)\n",
      "\n",
      "            best = np.argmax(scores)\n",
      "            self.indices_ = subsets[best]\n",
      "            self.subsets_.append(self.indices_)\n",
      "            dim -= 1\n",
      "\n",
      "            self.scores_.append(scores[best])\n",
      "        self.k_score_ = self.scores_[-1]\n",
      "\n",
      "        return self\n",
      "\n",
      "    def transform(self, X):\n",
      "        return X[:, self.indices_]\n",
      "\n",
      "    def _calc_score(self, X_train, y_train, X_test, y_test, indices):\n",
      "        self.estimator.fit(X_train[:, indices], y_train)\n",
      "        y_pred = self.estimator.predict(X_test[:, indices])\n",
      "        score = self.scoring(y_test, y_pred)\n",
      "        return score"
     ],
     "language": "python",
     "metadata": {},
     "outputs": [],
     "prompt_number": 128
    },
    {
     "cell_type": "code",
     "collapsed": false,
     "input": [
      "from sklearn.neighbors import KNeighborsClassifier\n",
      "from sklearn.ensemble import GradientBoostingClassifier\n",
      "\n",
      "gbc = GradientBoostingClassifier()\n",
      "\n",
      "# selecting features\n",
      "sbs = SBS(gbc, k_features=1)\n",
      "sbs.fit(X_train_std, y_train)\n",
      "\n",
      "# plotting performance of feature subsets\n",
      "k_feat = [len(k) for k in sbs.subsets_]\n",
      "\n",
      "plt.plot(k_feat, sbs.scores_, marker='o')\n",
      "plt.ylim([0.4, 1.0])\n",
      "plt.ylabel('Accuracy')\n",
      "plt.xlabel('Number of features')\n",
      "plt.show();"
     ],
     "language": "python",
     "metadata": {},
     "outputs": [
      {
       "ename": "KeyboardInterrupt",
       "evalue": "",
       "output_type": "pyerr",
       "traceback": [
        "\u001b[0;31m---------------------------------------------------------------------------\u001b[0m\n\u001b[0;31mKeyboardInterrupt\u001b[0m                         Traceback (most recent call last)",
        "\u001b[0;32m<ipython-input-129-dbe2b2543498>\u001b[0m in \u001b[0;36m<module>\u001b[0;34m()\u001b[0m\n\u001b[1;32m      6\u001b[0m \u001b[0;31m# selecting features\u001b[0m\u001b[0;34m\u001b[0m\u001b[0;34m\u001b[0m\u001b[0m\n\u001b[1;32m      7\u001b[0m \u001b[0msbs\u001b[0m \u001b[0;34m=\u001b[0m \u001b[0mSBS\u001b[0m\u001b[0;34m(\u001b[0m\u001b[0mgbc\u001b[0m\u001b[0;34m,\u001b[0m \u001b[0mk_features\u001b[0m\u001b[0;34m=\u001b[0m\u001b[0;36m1\u001b[0m\u001b[0;34m)\u001b[0m\u001b[0;34m\u001b[0m\u001b[0m\n\u001b[0;32m----> 8\u001b[0;31m \u001b[0msbs\u001b[0m\u001b[0;34m.\u001b[0m\u001b[0mfit\u001b[0m\u001b[0;34m(\u001b[0m\u001b[0mX_train_std\u001b[0m\u001b[0;34m,\u001b[0m \u001b[0my_train\u001b[0m\u001b[0;34m)\u001b[0m\u001b[0;34m\u001b[0m\u001b[0m\n\u001b[0m\u001b[1;32m      9\u001b[0m \u001b[0;34m\u001b[0m\u001b[0m\n\u001b[1;32m     10\u001b[0m \u001b[0;31m# plotting performance of feature subsets\u001b[0m\u001b[0;34m\u001b[0m\u001b[0;34m\u001b[0m\u001b[0m\n",
        "\u001b[0;32m<ipython-input-128-bd131262e054>\u001b[0m in \u001b[0;36mfit\u001b[0;34m(self, X, y)\u001b[0m\n\u001b[1;32m     28\u001b[0m         \u001b[0;32mwhile\u001b[0m \u001b[0mdim\u001b[0m \u001b[0;34m>\u001b[0m \u001b[0mself\u001b[0m\u001b[0;34m.\u001b[0m\u001b[0mk_features\u001b[0m\u001b[0;34m:\u001b[0m\u001b[0;34m\u001b[0m\u001b[0m\n\u001b[1;32m     29\u001b[0m             \u001b[0mscores\u001b[0m \u001b[0;34m=\u001b[0m \u001b[0;34m[\u001b[0m\u001b[0;34m]\u001b[0m\u001b[0;34m\u001b[0m\u001b[0m\n\u001b[0;32m---> 30\u001b[0;31m             \u001b[0msubsets\u001b[0m \u001b[0;34m=\u001b[0m \u001b[0;34m[\u001b[0m\u001b[0;34m]\u001b[0m\u001b[0;34m\u001b[0m\u001b[0m\n\u001b[0m\u001b[1;32m     31\u001b[0m \u001b[0;34m\u001b[0m\u001b[0m\n\u001b[1;32m     32\u001b[0m         \u001b[0;32mfor\u001b[0m \u001b[0mp\u001b[0m \u001b[0;32min\u001b[0m \u001b[0mcombinations\u001b[0m\u001b[0;34m(\u001b[0m\u001b[0mself\u001b[0m\u001b[0;34m.\u001b[0m\u001b[0mindices_\u001b[0m\u001b[0;34m,\u001b[0m \u001b[0mr\u001b[0m\u001b[0;34m=\u001b[0m\u001b[0mdim\u001b[0m\u001b[0;34m-\u001b[0m\u001b[0;36m1\u001b[0m\u001b[0;34m)\u001b[0m\u001b[0;34m:\u001b[0m\u001b[0;34m\u001b[0m\u001b[0m\n",
        "\u001b[0;31mKeyboardInterrupt\u001b[0m: "
       ]
      }
     ],
     "prompt_number": 129
    },
    {
     "cell_type": "code",
     "collapsed": false,
     "input": [
      "from sklearn.ensemble import RandomForestClassifier\n",
      "\n",
      "feat_labels = X_train.columns\n",
      "\n",
      "forest = RandomForestClassifier(n_estimators=500,\n",
      "random_state=0,\n",
      "n_jobs=-1)\n",
      "\n",
      "forest.fit(X_train, y_train)\n",
      "importances = forest.feature_importances_\n",
      "\n",
      "indices = np.argsort(importances)[::-1]\n",
      "\n",
      "for f in range(X_train.shape[1]):\n",
      "    print(\"%2d) %-*s %f\" % (f + 1, 30, \n",
      "    feat_labels[indices[f]], \n",
      "    importances[indices[f]]))\n",
      "\n",
      "plt.title('Feature Importances')\n",
      "plt.bar(range(X_train.shape[1]), \n",
      "importances[indices],\n",
      "color='lightblue', \n",
      "align='center')\n",
      "\n",
      "plt.xticks(range(X_train.shape[1]), \n",
      "feat_labels[indices], rotation=90)\n",
      "plt.xlim([-1, X_train.shape[1]])\n",
      "plt.tight_layout()\n",
      "plt.show()"
     ],
     "language": "python",
     "metadata": {},
     "outputs": []
    },
    {
     "cell_type": "code",
     "collapsed": false,
     "input": [
      "feat = ['Credit_History', 'ApplicantIncome', 'LoanAmount', 'CoapplicantIncome']\n",
      " \n",
      " forest = RandomForestClassifier(n_estimators=500, n_jobs=-1, criterion='entropy', min_samples_leaf=5, min_weight_fraction_leaf=.1)\n",
      " forest.fit(X_train[feat], y_train)\n",
      " \n",
      " 'Training accuracy:', forest.score(X_train[feat], y_train)\n"
     ],
     "language": "python",
     "metadata": {},
     "outputs": []
    },
    {
     "cell_type": "code",
     "collapsed": false,
     "input": [
      "'Test accuracy:', forest.score(X_test[feat], y_test)"
     ],
     "language": "python",
     "metadata": {},
     "outputs": []
    },
    {
     "cell_type": "code",
     "collapsed": false,
     "input": [],
     "language": "python",
     "metadata": {},
     "outputs": []
    }
   ],
   "metadata": {}
  }
 ]
}