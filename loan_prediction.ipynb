{
 "metadata": {
  "name": "",
  "signature": "sha256:e65beb23bead053f8ef5bee9cbd5bc37a05b253b10eeaa592ef0571e5b7db4df"
 },
 "nbformat": 3,
 "nbformat_minor": 0,
 "worksheets": [
  {
   "cells": [
    {
     "cell_type": "raw",
     "metadata": {},
     "source": [
      "# Roadmap:\n",
      "# What is data about\n",
      "# Summary of Data (EDA)\n",
      "# Visualization\n",
      "\n",
      "# Preprocessing:\n",
      "# Missing values\n",
      "# Transformations\n",
      "# Dummy Variables\n",
      "\n",
      "# Classification\n",
      "# Decision tree\n",
      "# Logistic regression\n",
      "# random forest\n",
      "# Gradient Boosting methods\n",
      "# Adaboost\n",
      "# Voting Classifier method"
     ]
    },
    {
     "cell_type": "code",
     "collapsed": false,
     "input": [
      "# Data Analysis and Visualization\n",
      "import pandas as pd\n",
      "import numpy as np\n",
      "import matplotlib\n",
      "import itertools\n",
      "import seaborn as sns\n",
      "\n",
      "# Evaluation\n",
      "from sklearn.metrics import roc_auc_score, accuracy_score\n",
      "from sklearn.cross_validation import StratifiedKFold,cross_val_score,LeaveOneOut,train_test_split\n",
      "\n",
      "# Build the models\n",
      "from sklearn.linear_model import LogisticRegression\n",
      "from sklearn.ensemble import RandomForestClassifier, GradientBoostingClassifier, ExtraTreesClassifier\n",
      "from sklearn.preprocessing import LabelEncoder\n",
      "%matplotlib inline\n",
      "\n",
      "# Suppress warnings\n",
      "import warnings\n",
      "warnings.filterwarnings('ignore')"
     ],
     "language": "python",
     "metadata": {},
     "outputs": [],
     "prompt_number": 5
    },
    {
     "cell_type": "code",
     "collapsed": false,
     "input": [
      "train = pd.read_csv('./data/train.csv')\n",
      "test = pd.read_csv('./data/test.csv')"
     ],
     "language": "python",
     "metadata": {},
     "outputs": [],
     "prompt_number": 47
    },
    {
     "cell_type": "code",
     "collapsed": false,
     "input": [
      "train.describe()"
     ],
     "language": "python",
     "metadata": {},
     "outputs": [
      {
       "html": [
        "<div style=\"max-width:1500px;overflow:auto;\">\n",
        "<table border=\"1\" class=\"dataframe\">\n",
        "  <thead>\n",
        "    <tr style=\"text-align: right;\">\n",
        "      <th></th>\n",
        "      <th>ApplicantIncome</th>\n",
        "      <th>CoapplicantIncome</th>\n",
        "      <th>LoanAmount</th>\n",
        "      <th>Loan_Amount_Term</th>\n",
        "      <th>Credit_History</th>\n",
        "    </tr>\n",
        "  </thead>\n",
        "  <tbody>\n",
        "    <tr>\n",
        "      <th>count</th>\n",
        "      <td>614.000000</td>\n",
        "      <td>614.000000</td>\n",
        "      <td>592.000000</td>\n",
        "      <td>600.00000</td>\n",
        "      <td>564.000000</td>\n",
        "    </tr>\n",
        "    <tr>\n",
        "      <th>mean</th>\n",
        "      <td>5403.459283</td>\n",
        "      <td>1621.245798</td>\n",
        "      <td>146.412162</td>\n",
        "      <td>342.00000</td>\n",
        "      <td>0.842199</td>\n",
        "    </tr>\n",
        "    <tr>\n",
        "      <th>std</th>\n",
        "      <td>6109.041673</td>\n",
        "      <td>2926.248369</td>\n",
        "      <td>85.587325</td>\n",
        "      <td>65.12041</td>\n",
        "      <td>0.364878</td>\n",
        "    </tr>\n",
        "    <tr>\n",
        "      <th>min</th>\n",
        "      <td>150.000000</td>\n",
        "      <td>0.000000</td>\n",
        "      <td>9.000000</td>\n",
        "      <td>12.00000</td>\n",
        "      <td>0.000000</td>\n",
        "    </tr>\n",
        "    <tr>\n",
        "      <th>25%</th>\n",
        "      <td>2877.500000</td>\n",
        "      <td>0.000000</td>\n",
        "      <td>NaN</td>\n",
        "      <td>NaN</td>\n",
        "      <td>NaN</td>\n",
        "    </tr>\n",
        "    <tr>\n",
        "      <th>50%</th>\n",
        "      <td>3812.500000</td>\n",
        "      <td>1188.500000</td>\n",
        "      <td>NaN</td>\n",
        "      <td>NaN</td>\n",
        "      <td>NaN</td>\n",
        "    </tr>\n",
        "    <tr>\n",
        "      <th>75%</th>\n",
        "      <td>5795.000000</td>\n",
        "      <td>2297.250000</td>\n",
        "      <td>NaN</td>\n",
        "      <td>NaN</td>\n",
        "      <td>NaN</td>\n",
        "    </tr>\n",
        "    <tr>\n",
        "      <th>max</th>\n",
        "      <td>81000.000000</td>\n",
        "      <td>41667.000000</td>\n",
        "      <td>700.000000</td>\n",
        "      <td>480.00000</td>\n",
        "      <td>1.000000</td>\n",
        "    </tr>\n",
        "  </tbody>\n",
        "</table>\n",
        "</div>"
       ],
       "metadata": {},
       "output_type": "pyout",
       "prompt_number": 48,
       "text": [
        "       ApplicantIncome  CoapplicantIncome  LoanAmount  Loan_Amount_Term  \\\n",
        "count       614.000000         614.000000  592.000000         600.00000   \n",
        "mean       5403.459283        1621.245798  146.412162         342.00000   \n",
        "std        6109.041673        2926.248369   85.587325          65.12041   \n",
        "min         150.000000           0.000000    9.000000          12.00000   \n",
        "25%        2877.500000           0.000000         NaN               NaN   \n",
        "50%        3812.500000        1188.500000         NaN               NaN   \n",
        "75%        5795.000000        2297.250000         NaN               NaN   \n",
        "max       81000.000000       41667.000000  700.000000         480.00000   \n",
        "\n",
        "       Credit_History  \n",
        "count      564.000000  \n",
        "mean         0.842199  \n",
        "std          0.364878  \n",
        "min          0.000000  \n",
        "25%               NaN  \n",
        "50%               NaN  \n",
        "75%               NaN  \n",
        "max          1.000000  "
       ]
      }
     ],
     "prompt_number": 48
    },
    {
     "cell_type": "code",
     "collapsed": false,
     "input": [
      "train.head()"
     ],
     "language": "python",
     "metadata": {},
     "outputs": [
      {
       "html": [
        "<div style=\"max-width:1500px;overflow:auto;\">\n",
        "<table border=\"1\" class=\"dataframe\">\n",
        "  <thead>\n",
        "    <tr style=\"text-align: right;\">\n",
        "      <th></th>\n",
        "      <th>Loan_ID</th>\n",
        "      <th>Gender</th>\n",
        "      <th>Married</th>\n",
        "      <th>Dependents</th>\n",
        "      <th>Education</th>\n",
        "      <th>Self_Employed</th>\n",
        "      <th>ApplicantIncome</th>\n",
        "      <th>CoapplicantIncome</th>\n",
        "      <th>LoanAmount</th>\n",
        "      <th>Loan_Amount_Term</th>\n",
        "      <th>Credit_History</th>\n",
        "      <th>Property_Area</th>\n",
        "      <th>Loan_Status</th>\n",
        "    </tr>\n",
        "  </thead>\n",
        "  <tbody>\n",
        "    <tr>\n",
        "      <th>0</th>\n",
        "      <td>LP001002</td>\n",
        "      <td>Male</td>\n",
        "      <td>No</td>\n",
        "      <td>0</td>\n",
        "      <td>Graduate</td>\n",
        "      <td>No</td>\n",
        "      <td>5849</td>\n",
        "      <td>0.0</td>\n",
        "      <td>NaN</td>\n",
        "      <td>360.0</td>\n",
        "      <td>1.0</td>\n",
        "      <td>Urban</td>\n",
        "      <td>Y</td>\n",
        "    </tr>\n",
        "    <tr>\n",
        "      <th>1</th>\n",
        "      <td>LP001003</td>\n",
        "      <td>Male</td>\n",
        "      <td>Yes</td>\n",
        "      <td>1</td>\n",
        "      <td>Graduate</td>\n",
        "      <td>No</td>\n",
        "      <td>4583</td>\n",
        "      <td>1508.0</td>\n",
        "      <td>128.0</td>\n",
        "      <td>360.0</td>\n",
        "      <td>1.0</td>\n",
        "      <td>Rural</td>\n",
        "      <td>N</td>\n",
        "    </tr>\n",
        "    <tr>\n",
        "      <th>2</th>\n",
        "      <td>LP001005</td>\n",
        "      <td>Male</td>\n",
        "      <td>Yes</td>\n",
        "      <td>0</td>\n",
        "      <td>Graduate</td>\n",
        "      <td>Yes</td>\n",
        "      <td>3000</td>\n",
        "      <td>0.0</td>\n",
        "      <td>66.0</td>\n",
        "      <td>360.0</td>\n",
        "      <td>1.0</td>\n",
        "      <td>Urban</td>\n",
        "      <td>Y</td>\n",
        "    </tr>\n",
        "    <tr>\n",
        "      <th>3</th>\n",
        "      <td>LP001006</td>\n",
        "      <td>Male</td>\n",
        "      <td>Yes</td>\n",
        "      <td>0</td>\n",
        "      <td>Not Graduate</td>\n",
        "      <td>No</td>\n",
        "      <td>2583</td>\n",
        "      <td>2358.0</td>\n",
        "      <td>120.0</td>\n",
        "      <td>360.0</td>\n",
        "      <td>1.0</td>\n",
        "      <td>Urban</td>\n",
        "      <td>Y</td>\n",
        "    </tr>\n",
        "    <tr>\n",
        "      <th>4</th>\n",
        "      <td>LP001008</td>\n",
        "      <td>Male</td>\n",
        "      <td>No</td>\n",
        "      <td>0</td>\n",
        "      <td>Graduate</td>\n",
        "      <td>No</td>\n",
        "      <td>6000</td>\n",
        "      <td>0.0</td>\n",
        "      <td>141.0</td>\n",
        "      <td>360.0</td>\n",
        "      <td>1.0</td>\n",
        "      <td>Urban</td>\n",
        "      <td>Y</td>\n",
        "    </tr>\n",
        "  </tbody>\n",
        "</table>\n",
        "</div>"
       ],
       "metadata": {},
       "output_type": "pyout",
       "prompt_number": 49,
       "text": [
        "    Loan_ID Gender Married Dependents     Education Self_Employed  \\\n",
        "0  LP001002   Male      No          0      Graduate            No   \n",
        "1  LP001003   Male     Yes          1      Graduate            No   \n",
        "2  LP001005   Male     Yes          0      Graduate           Yes   \n",
        "3  LP001006   Male     Yes          0  Not Graduate            No   \n",
        "4  LP001008   Male      No          0      Graduate            No   \n",
        "\n",
        "   ApplicantIncome  CoapplicantIncome  LoanAmount  Loan_Amount_Term  \\\n",
        "0             5849                0.0         NaN             360.0   \n",
        "1             4583             1508.0       128.0             360.0   \n",
        "2             3000                0.0        66.0             360.0   \n",
        "3             2583             2358.0       120.0             360.0   \n",
        "4             6000                0.0       141.0             360.0   \n",
        "\n",
        "   Credit_History Property_Area Loan_Status  \n",
        "0             1.0         Urban           Y  \n",
        "1             1.0         Rural           N  \n",
        "2             1.0         Urban           Y  \n",
        "3             1.0         Urban           Y  \n",
        "4             1.0         Urban           Y  "
       ]
      }
     ],
     "prompt_number": 49
    },
    {
     "cell_type": "code",
     "collapsed": false,
     "input": [
      "train.info()"
     ],
     "language": "python",
     "metadata": {},
     "outputs": [
      {
       "output_type": "stream",
       "stream": "stdout",
       "text": [
        "<class 'pandas.core.frame.DataFrame'>\n",
        "RangeIndex: 614 entries, 0 to 613\n",
        "Data columns (total 13 columns):\n",
        "Loan_ID              614 non-null object\n",
        "Gender               601 non-null object\n",
        "Married              611 non-null object\n",
        "Dependents           599 non-null object\n",
        "Education            614 non-null object\n",
        "Self_Employed        582 non-null object\n",
        "ApplicantIncome      614 non-null int64\n",
        "CoapplicantIncome    614 non-null float64\n",
        "LoanAmount           592 non-null float64\n",
        "Loan_Amount_Term     600 non-null float64\n",
        "Credit_History       564 non-null float64\n",
        "Property_Area        614 non-null object\n",
        "Loan_Status          614 non-null object\n",
        "dtypes: float64(4), int64(1), object(8)\n",
        "memory usage: 62.4+ KB\n"
       ]
      }
     ],
     "prompt_number": 50
    },
    {
     "cell_type": "code",
     "collapsed": false,
     "input": [
      "# 614 rows: small dataset"
     ],
     "language": "python",
     "metadata": {},
     "outputs": []
    },
    {
     "cell_type": "code",
     "collapsed": false,
     "input": [
      "test.head()"
     ],
     "language": "python",
     "metadata": {},
     "outputs": [
      {
       "html": [
        "<div style=\"max-width:1500px;overflow:auto;\">\n",
        "<table border=\"1\" class=\"dataframe\">\n",
        "  <thead>\n",
        "    <tr style=\"text-align: right;\">\n",
        "      <th></th>\n",
        "      <th>Loan_ID</th>\n",
        "      <th>Gender</th>\n",
        "      <th>Married</th>\n",
        "      <th>Dependents</th>\n",
        "      <th>Education</th>\n",
        "      <th>Self_Employed</th>\n",
        "      <th>ApplicantIncome</th>\n",
        "      <th>CoapplicantIncome</th>\n",
        "      <th>LoanAmount</th>\n",
        "      <th>Loan_Amount_Term</th>\n",
        "      <th>Credit_History</th>\n",
        "      <th>Property_Area</th>\n",
        "    </tr>\n",
        "  </thead>\n",
        "  <tbody>\n",
        "    <tr>\n",
        "      <th>0</th>\n",
        "      <td>LP001015</td>\n",
        "      <td>Male</td>\n",
        "      <td>Yes</td>\n",
        "      <td>0</td>\n",
        "      <td>Graduate</td>\n",
        "      <td>No</td>\n",
        "      <td>5720</td>\n",
        "      <td>0</td>\n",
        "      <td>110.0</td>\n",
        "      <td>360.0</td>\n",
        "      <td>1.0</td>\n",
        "      <td>Urban</td>\n",
        "    </tr>\n",
        "    <tr>\n",
        "      <th>1</th>\n",
        "      <td>LP001022</td>\n",
        "      <td>Male</td>\n",
        "      <td>Yes</td>\n",
        "      <td>1</td>\n",
        "      <td>Graduate</td>\n",
        "      <td>No</td>\n",
        "      <td>3076</td>\n",
        "      <td>1500</td>\n",
        "      <td>126.0</td>\n",
        "      <td>360.0</td>\n",
        "      <td>1.0</td>\n",
        "      <td>Urban</td>\n",
        "    </tr>\n",
        "    <tr>\n",
        "      <th>2</th>\n",
        "      <td>LP001031</td>\n",
        "      <td>Male</td>\n",
        "      <td>Yes</td>\n",
        "      <td>2</td>\n",
        "      <td>Graduate</td>\n",
        "      <td>No</td>\n",
        "      <td>5000</td>\n",
        "      <td>1800</td>\n",
        "      <td>208.0</td>\n",
        "      <td>360.0</td>\n",
        "      <td>1.0</td>\n",
        "      <td>Urban</td>\n",
        "    </tr>\n",
        "    <tr>\n",
        "      <th>3</th>\n",
        "      <td>LP001035</td>\n",
        "      <td>Male</td>\n",
        "      <td>Yes</td>\n",
        "      <td>2</td>\n",
        "      <td>Graduate</td>\n",
        "      <td>No</td>\n",
        "      <td>2340</td>\n",
        "      <td>2546</td>\n",
        "      <td>100.0</td>\n",
        "      <td>360.0</td>\n",
        "      <td>NaN</td>\n",
        "      <td>Urban</td>\n",
        "    </tr>\n",
        "    <tr>\n",
        "      <th>4</th>\n",
        "      <td>LP001051</td>\n",
        "      <td>Male</td>\n",
        "      <td>No</td>\n",
        "      <td>0</td>\n",
        "      <td>Not Graduate</td>\n",
        "      <td>No</td>\n",
        "      <td>3276</td>\n",
        "      <td>0</td>\n",
        "      <td>78.0</td>\n",
        "      <td>360.0</td>\n",
        "      <td>1.0</td>\n",
        "      <td>Urban</td>\n",
        "    </tr>\n",
        "  </tbody>\n",
        "</table>\n",
        "</div>"
       ],
       "metadata": {},
       "output_type": "pyout",
       "prompt_number": 51,
       "text": [
        "    Loan_ID Gender Married Dependents     Education Self_Employed  \\\n",
        "0  LP001015   Male     Yes          0      Graduate            No   \n",
        "1  LP001022   Male     Yes          1      Graduate            No   \n",
        "2  LP001031   Male     Yes          2      Graduate            No   \n",
        "3  LP001035   Male     Yes          2      Graduate            No   \n",
        "4  LP001051   Male      No          0  Not Graduate            No   \n",
        "\n",
        "   ApplicantIncome  CoapplicantIncome  LoanAmount  Loan_Amount_Term  \\\n",
        "0             5720                  0       110.0             360.0   \n",
        "1             3076               1500       126.0             360.0   \n",
        "2             5000               1800       208.0             360.0   \n",
        "3             2340               2546       100.0             360.0   \n",
        "4             3276                  0        78.0             360.0   \n",
        "\n",
        "   Credit_History Property_Area  \n",
        "0             1.0         Urban  \n",
        "1             1.0         Urban  \n",
        "2             1.0         Urban  \n",
        "3             NaN         Urban  \n",
        "4             1.0         Urban  "
       ]
      }
     ],
     "prompt_number": 51
    },
    {
     "cell_type": "code",
     "collapsed": false,
     "input": [
      "#get column names\n",
      "#print list(train.columns.values)\n",
      "#list(train)\n",
      "[c for c in train]"
     ],
     "language": "python",
     "metadata": {},
     "outputs": [
      {
       "metadata": {},
       "output_type": "pyout",
       "prompt_number": 52,
       "text": [
        "['Loan_ID',\n",
        " 'Gender',\n",
        " 'Married',\n",
        " 'Dependents',\n",
        " 'Education',\n",
        " 'Self_Employed',\n",
        " 'ApplicantIncome',\n",
        " 'CoapplicantIncome',\n",
        " 'LoanAmount',\n",
        " 'Loan_Amount_Term',\n",
        " 'Credit_History',\n",
        " 'Property_Area',\n",
        " 'Loan_Status']"
       ]
      }
     ],
     "prompt_number": 52
    },
    {
     "cell_type": "code",
     "collapsed": false,
     "input": [
      "# column names that can be dropped for analysis\n",
      "# Loan_ID, Gender, Loan_Status\n",
      "\n",
      "# columns that are "
     ],
     "language": "python",
     "metadata": {},
     "outputs": []
    },
    {
     "cell_type": "code",
     "collapsed": false,
     "input": [
      "[c for c in train]"
     ],
     "language": "python",
     "metadata": {},
     "outputs": [
      {
       "metadata": {},
       "output_type": "pyout",
       "prompt_number": 53,
       "text": [
        "['Loan_ID',\n",
        " 'Gender',\n",
        " 'Married',\n",
        " 'Dependents',\n",
        " 'Education',\n",
        " 'Self_Employed',\n",
        " 'ApplicantIncome',\n",
        " 'CoapplicantIncome',\n",
        " 'LoanAmount',\n",
        " 'Loan_Amount_Term',\n",
        " 'Credit_History',\n",
        " 'Property_Area',\n",
        " 'Loan_Status']"
       ]
      }
     ],
     "prompt_number": 53
    },
    {
     "cell_type": "code",
     "collapsed": false,
     "input": [
      "# get a count of missing values\n",
      "train.isnull().sum()"
     ],
     "language": "python",
     "metadata": {},
     "outputs": [
      {
       "metadata": {},
       "output_type": "pyout",
       "prompt_number": 54,
       "text": [
        "Loan_ID               0\n",
        "Gender               13\n",
        "Married               3\n",
        "Dependents           15\n",
        "Education             0\n",
        "Self_Employed        32\n",
        "ApplicantIncome       0\n",
        "CoapplicantIncome     0\n",
        "LoanAmount           22\n",
        "Loan_Amount_Term     14\n",
        "Credit_History       50\n",
        "Property_Area         0\n",
        "Loan_Status           0\n",
        "dtype: int64"
       ]
      }
     ],
     "prompt_number": 54
    },
    {
     "cell_type": "code",
     "collapsed": false,
     "input": [
      "#check if the label is balanced or unbalanced\n",
      "train.Loan_Status.value_counts()"
     ],
     "language": "python",
     "metadata": {},
     "outputs": [
      {
       "metadata": {},
       "output_type": "pyout",
       "prompt_number": 55,
       "text": [
        "Y    422\n",
        "N    192\n",
        "Name: Loan_Status, dtype: int64"
       ]
      }
     ],
     "prompt_number": 55
    },
    {
     "cell_type": "code",
     "collapsed": false,
     "input": [
      "#check balancing of Gender\n",
      "print train.Gender.value_counts()\n",
      "sum((train.Gender=='Male')*1)"
     ],
     "language": "python",
     "metadata": {},
     "outputs": [
      {
       "output_type": "stream",
       "stream": "stdout",
       "text": [
        "Male      489\n",
        "Female    112\n",
        "Name: Gender, dtype: int64\n"
       ]
      },
      {
       "metadata": {},
       "output_type": "pyout",
       "prompt_number": 56,
       "text": [
        "489"
       ]
      }
     ],
     "prompt_number": 56
    },
    {
     "cell_type": "code",
     "collapsed": false,
     "input": [
      "# convert categorical data into numerical\n",
      "train['Gender']=(train.Gender=='Female')*1\n",
      "test['Gender']=(test.Gender=='Female')*1"
     ],
     "language": "python",
     "metadata": {},
     "outputs": [],
     "prompt_number": 57
    },
    {
     "cell_type": "code",
     "collapsed": false,
     "input": [
      "train['Married']=(train.Married=='No')*1\n",
      "test['Married']=(test.Married=='No')*1\n",
      "\n",
      "train['Self_Employed']=(train.Self_Employed=='Yes')*1\n",
      "test['Self_Employed']=(test.Self_Employed=='Yes')*1"
     ],
     "language": "python",
     "metadata": {},
     "outputs": [],
     "prompt_number": 58
    },
    {
     "cell_type": "code",
     "collapsed": false,
     "input": [
      "train.head()"
     ],
     "language": "python",
     "metadata": {},
     "outputs": [
      {
       "html": [
        "<div style=\"max-width:1500px;overflow:auto;\">\n",
        "<table border=\"1\" class=\"dataframe\">\n",
        "  <thead>\n",
        "    <tr style=\"text-align: right;\">\n",
        "      <th></th>\n",
        "      <th>Loan_ID</th>\n",
        "      <th>Gender</th>\n",
        "      <th>Married</th>\n",
        "      <th>Dependents</th>\n",
        "      <th>Education</th>\n",
        "      <th>Self_Employed</th>\n",
        "      <th>ApplicantIncome</th>\n",
        "      <th>CoapplicantIncome</th>\n",
        "      <th>LoanAmount</th>\n",
        "      <th>Loan_Amount_Term</th>\n",
        "      <th>Credit_History</th>\n",
        "      <th>Property_Area</th>\n",
        "      <th>Loan_Status</th>\n",
        "    </tr>\n",
        "  </thead>\n",
        "  <tbody>\n",
        "    <tr>\n",
        "      <th>0</th>\n",
        "      <td>LP001002</td>\n",
        "      <td>0</td>\n",
        "      <td>1</td>\n",
        "      <td>0</td>\n",
        "      <td>Graduate</td>\n",
        "      <td>0</td>\n",
        "      <td>5849</td>\n",
        "      <td>0.0</td>\n",
        "      <td>NaN</td>\n",
        "      <td>360.0</td>\n",
        "      <td>1.0</td>\n",
        "      <td>Urban</td>\n",
        "      <td>Y</td>\n",
        "    </tr>\n",
        "    <tr>\n",
        "      <th>1</th>\n",
        "      <td>LP001003</td>\n",
        "      <td>0</td>\n",
        "      <td>0</td>\n",
        "      <td>1</td>\n",
        "      <td>Graduate</td>\n",
        "      <td>0</td>\n",
        "      <td>4583</td>\n",
        "      <td>1508.0</td>\n",
        "      <td>128.0</td>\n",
        "      <td>360.0</td>\n",
        "      <td>1.0</td>\n",
        "      <td>Rural</td>\n",
        "      <td>N</td>\n",
        "    </tr>\n",
        "    <tr>\n",
        "      <th>2</th>\n",
        "      <td>LP001005</td>\n",
        "      <td>0</td>\n",
        "      <td>0</td>\n",
        "      <td>0</td>\n",
        "      <td>Graduate</td>\n",
        "      <td>1</td>\n",
        "      <td>3000</td>\n",
        "      <td>0.0</td>\n",
        "      <td>66.0</td>\n",
        "      <td>360.0</td>\n",
        "      <td>1.0</td>\n",
        "      <td>Urban</td>\n",
        "      <td>Y</td>\n",
        "    </tr>\n",
        "    <tr>\n",
        "      <th>3</th>\n",
        "      <td>LP001006</td>\n",
        "      <td>0</td>\n",
        "      <td>0</td>\n",
        "      <td>0</td>\n",
        "      <td>Not Graduate</td>\n",
        "      <td>0</td>\n",
        "      <td>2583</td>\n",
        "      <td>2358.0</td>\n",
        "      <td>120.0</td>\n",
        "      <td>360.0</td>\n",
        "      <td>1.0</td>\n",
        "      <td>Urban</td>\n",
        "      <td>Y</td>\n",
        "    </tr>\n",
        "    <tr>\n",
        "      <th>4</th>\n",
        "      <td>LP001008</td>\n",
        "      <td>0</td>\n",
        "      <td>1</td>\n",
        "      <td>0</td>\n",
        "      <td>Graduate</td>\n",
        "      <td>0</td>\n",
        "      <td>6000</td>\n",
        "      <td>0.0</td>\n",
        "      <td>141.0</td>\n",
        "      <td>360.0</td>\n",
        "      <td>1.0</td>\n",
        "      <td>Urban</td>\n",
        "      <td>Y</td>\n",
        "    </tr>\n",
        "  </tbody>\n",
        "</table>\n",
        "</div>"
       ],
       "metadata": {},
       "output_type": "pyout",
       "prompt_number": 59,
       "text": [
        "    Loan_ID  Gender  Married Dependents     Education  Self_Employed  \\\n",
        "0  LP001002       0        1          0      Graduate              0   \n",
        "1  LP001003       0        0          1      Graduate              0   \n",
        "2  LP001005       0        0          0      Graduate              1   \n",
        "3  LP001006       0        0          0  Not Graduate              0   \n",
        "4  LP001008       0        1          0      Graduate              0   \n",
        "\n",
        "   ApplicantIncome  CoapplicantIncome  LoanAmount  Loan_Amount_Term  \\\n",
        "0             5849                0.0         NaN             360.0   \n",
        "1             4583             1508.0       128.0             360.0   \n",
        "2             3000                0.0        66.0             360.0   \n",
        "3             2583             2358.0       120.0             360.0   \n",
        "4             6000                0.0       141.0             360.0   \n",
        "\n",
        "   Credit_History Property_Area Loan_Status  \n",
        "0             1.0         Urban           Y  \n",
        "1             1.0         Rural           N  \n",
        "2             1.0         Urban           Y  \n",
        "3             1.0         Urban           Y  \n",
        "4             1.0         Urban           Y  "
       ]
      }
     ],
     "prompt_number": 59
    },
    {
     "cell_type": "code",
     "collapsed": false,
     "input": [
      "education_map={'Graduate':1,'Not Graduate':2}\n",
      "train['Education']=train.Education.map(education_map)\n",
      "test['Education']=test.Education.map(education_map)\n",
      "\n",
      "property_area_map={'Urban':1,'Rural':2,'Semiurban':3}\n",
      "train['Property_Area']=train.Property_Area.map(property_area_map)\n",
      "test['Property_Area']=test.Property_Area.map(property_area_map)"
     ],
     "language": "python",
     "metadata": {},
     "outputs": [],
     "prompt_number": 60
    },
    {
     "cell_type": "raw",
     "metadata": {},
     "source": [
      "df['Gender'] = df['Gender'].map({'Female':0,'Male':1})\n",
      "df['Married'] = df['Married'].map({'No':0, 'Yes':1})\n",
      "df['Education'] = df['Education'].map({'Not Graduate':0, 'Graduate':1})\n",
      "df['Self_Employed'] = df['Self_Employed'].map({'No':0, 'Yes':1})\n",
      "df['Property_Area'] = df['Property_Area'].map({'Urban':3, 'Semiurban':2, 'Rural':1})\n",
      "df['Loan_Status'] = df['Loan_Status'].map({'N':0, 'Y':1})"
     ]
    },
    {
     "cell_type": "code",
     "collapsed": false,
     "input": [
      "train.head()"
     ],
     "language": "python",
     "metadata": {},
     "outputs": [
      {
       "html": [
        "<div style=\"max-width:1500px;overflow:auto;\">\n",
        "<table border=\"1\" class=\"dataframe\">\n",
        "  <thead>\n",
        "    <tr style=\"text-align: right;\">\n",
        "      <th></th>\n",
        "      <th>Loan_ID</th>\n",
        "      <th>Gender</th>\n",
        "      <th>Married</th>\n",
        "      <th>Dependents</th>\n",
        "      <th>Education</th>\n",
        "      <th>Self_Employed</th>\n",
        "      <th>ApplicantIncome</th>\n",
        "      <th>CoapplicantIncome</th>\n",
        "      <th>LoanAmount</th>\n",
        "      <th>Loan_Amount_Term</th>\n",
        "      <th>Credit_History</th>\n",
        "      <th>Property_Area</th>\n",
        "      <th>Loan_Status</th>\n",
        "    </tr>\n",
        "  </thead>\n",
        "  <tbody>\n",
        "    <tr>\n",
        "      <th>0</th>\n",
        "      <td>LP001002</td>\n",
        "      <td>0</td>\n",
        "      <td>1</td>\n",
        "      <td>0</td>\n",
        "      <td>1</td>\n",
        "      <td>0</td>\n",
        "      <td>5849</td>\n",
        "      <td>0.0</td>\n",
        "      <td>NaN</td>\n",
        "      <td>360.0</td>\n",
        "      <td>1.0</td>\n",
        "      <td>1</td>\n",
        "      <td>Y</td>\n",
        "    </tr>\n",
        "    <tr>\n",
        "      <th>1</th>\n",
        "      <td>LP001003</td>\n",
        "      <td>0</td>\n",
        "      <td>0</td>\n",
        "      <td>1</td>\n",
        "      <td>1</td>\n",
        "      <td>0</td>\n",
        "      <td>4583</td>\n",
        "      <td>1508.0</td>\n",
        "      <td>128.0</td>\n",
        "      <td>360.0</td>\n",
        "      <td>1.0</td>\n",
        "      <td>2</td>\n",
        "      <td>N</td>\n",
        "    </tr>\n",
        "    <tr>\n",
        "      <th>2</th>\n",
        "      <td>LP001005</td>\n",
        "      <td>0</td>\n",
        "      <td>0</td>\n",
        "      <td>0</td>\n",
        "      <td>1</td>\n",
        "      <td>1</td>\n",
        "      <td>3000</td>\n",
        "      <td>0.0</td>\n",
        "      <td>66.0</td>\n",
        "      <td>360.0</td>\n",
        "      <td>1.0</td>\n",
        "      <td>1</td>\n",
        "      <td>Y</td>\n",
        "    </tr>\n",
        "    <tr>\n",
        "      <th>3</th>\n",
        "      <td>LP001006</td>\n",
        "      <td>0</td>\n",
        "      <td>0</td>\n",
        "      <td>0</td>\n",
        "      <td>2</td>\n",
        "      <td>0</td>\n",
        "      <td>2583</td>\n",
        "      <td>2358.0</td>\n",
        "      <td>120.0</td>\n",
        "      <td>360.0</td>\n",
        "      <td>1.0</td>\n",
        "      <td>1</td>\n",
        "      <td>Y</td>\n",
        "    </tr>\n",
        "    <tr>\n",
        "      <th>4</th>\n",
        "      <td>LP001008</td>\n",
        "      <td>0</td>\n",
        "      <td>1</td>\n",
        "      <td>0</td>\n",
        "      <td>1</td>\n",
        "      <td>0</td>\n",
        "      <td>6000</td>\n",
        "      <td>0.0</td>\n",
        "      <td>141.0</td>\n",
        "      <td>360.0</td>\n",
        "      <td>1.0</td>\n",
        "      <td>1</td>\n",
        "      <td>Y</td>\n",
        "    </tr>\n",
        "  </tbody>\n",
        "</table>\n",
        "</div>"
       ],
       "metadata": {},
       "output_type": "pyout",
       "prompt_number": 61,
       "text": [
        "    Loan_ID  Gender  Married Dependents  Education  Self_Employed  \\\n",
        "0  LP001002       0        1          0          1              0   \n",
        "1  LP001003       0        0          1          1              0   \n",
        "2  LP001005       0        0          0          1              1   \n",
        "3  LP001006       0        0          0          2              0   \n",
        "4  LP001008       0        1          0          1              0   \n",
        "\n",
        "   ApplicantIncome  CoapplicantIncome  LoanAmount  Loan_Amount_Term  \\\n",
        "0             5849                0.0         NaN             360.0   \n",
        "1             4583             1508.0       128.0             360.0   \n",
        "2             3000                0.0        66.0             360.0   \n",
        "3             2583             2358.0       120.0             360.0   \n",
        "4             6000                0.0       141.0             360.0   \n",
        "\n",
        "   Credit_History  Property_Area Loan_Status  \n",
        "0             1.0              1           Y  \n",
        "1             1.0              2           N  \n",
        "2             1.0              1           Y  \n",
        "3             1.0              1           Y  \n",
        "4             1.0              1           Y  "
       ]
      }
     ],
     "prompt_number": 61
    },
    {
     "cell_type": "code",
     "collapsed": false,
     "input": [
      "print train.LoanAmount.mean()\n",
      "print test.LoanAmount.mean()"
     ],
     "language": "python",
     "metadata": {},
     "outputs": [
      {
       "output_type": "stream",
       "stream": "stdout",
       "text": [
        "146.412162162\n",
        "136.132596685\n"
       ]
      }
     ],
     "prompt_number": 62
    },
    {
     "cell_type": "code",
     "collapsed": false,
     "input": [
      "train['LoanAmount']=train.LoanAmount.fillna(train.LoanAmount.mean())\n",
      "test['LoanAmount']=train.LoanAmount.fillna(test.LoanAmount.mean())"
     ],
     "language": "python",
     "metadata": {},
     "outputs": [],
     "prompt_number": 63
    },
    {
     "cell_type": "code",
     "collapsed": false,
     "input": [
      "print train.Loan_Amount_Term.mean()\n",
      "print test.Loan_Amount_Term.mean()"
     ],
     "language": "python",
     "metadata": {},
     "outputs": [
      {
       "output_type": "stream",
       "stream": "stdout",
       "text": [
        "342.0\n",
        "342.537396122\n"
       ]
      }
     ],
     "prompt_number": 64
    },
    {
     "cell_type": "code",
     "collapsed": false,
     "input": [
      "train['Loan_Amount_Term']=train.Loan_Amount_Term.fillna(train.Loan_Amount_Term.mean())\n",
      "test['Loan_Amount_Term']=train.Loan_Amount_Term.fillna(test.Loan_Amount_Term.mean())"
     ],
     "language": "python",
     "metadata": {},
     "outputs": [],
     "prompt_number": 65
    },
    {
     "cell_type": "code",
     "collapsed": false,
     "input": [
      "train['Credit_History']=train.Credit_History.fillna(1)\n",
      "test['Credit_History']=train.Credit_History.fillna(1)"
     ],
     "language": "python",
     "metadata": {},
     "outputs": [],
     "prompt_number": 66
    },
    {
     "cell_type": "code",
     "collapsed": false,
     "input": [
      "train.head()"
     ],
     "language": "python",
     "metadata": {},
     "outputs": [
      {
       "html": [
        "<div style=\"max-width:1500px;overflow:auto;\">\n",
        "<table border=\"1\" class=\"dataframe\">\n",
        "  <thead>\n",
        "    <tr style=\"text-align: right;\">\n",
        "      <th></th>\n",
        "      <th>Loan_ID</th>\n",
        "      <th>Gender</th>\n",
        "      <th>Married</th>\n",
        "      <th>Dependents</th>\n",
        "      <th>Education</th>\n",
        "      <th>Self_Employed</th>\n",
        "      <th>ApplicantIncome</th>\n",
        "      <th>CoapplicantIncome</th>\n",
        "      <th>LoanAmount</th>\n",
        "      <th>Loan_Amount_Term</th>\n",
        "      <th>Credit_History</th>\n",
        "      <th>Property_Area</th>\n",
        "      <th>Loan_Status</th>\n",
        "    </tr>\n",
        "  </thead>\n",
        "  <tbody>\n",
        "    <tr>\n",
        "      <th>0</th>\n",
        "      <td>LP001002</td>\n",
        "      <td>0</td>\n",
        "      <td>1</td>\n",
        "      <td>0</td>\n",
        "      <td>1</td>\n",
        "      <td>0</td>\n",
        "      <td>5849</td>\n",
        "      <td>0.0</td>\n",
        "      <td>146.412162</td>\n",
        "      <td>360.0</td>\n",
        "      <td>1.0</td>\n",
        "      <td>1</td>\n",
        "      <td>Y</td>\n",
        "    </tr>\n",
        "    <tr>\n",
        "      <th>1</th>\n",
        "      <td>LP001003</td>\n",
        "      <td>0</td>\n",
        "      <td>0</td>\n",
        "      <td>1</td>\n",
        "      <td>1</td>\n",
        "      <td>0</td>\n",
        "      <td>4583</td>\n",
        "      <td>1508.0</td>\n",
        "      <td>128.000000</td>\n",
        "      <td>360.0</td>\n",
        "      <td>1.0</td>\n",
        "      <td>2</td>\n",
        "      <td>N</td>\n",
        "    </tr>\n",
        "    <tr>\n",
        "      <th>2</th>\n",
        "      <td>LP001005</td>\n",
        "      <td>0</td>\n",
        "      <td>0</td>\n",
        "      <td>0</td>\n",
        "      <td>1</td>\n",
        "      <td>1</td>\n",
        "      <td>3000</td>\n",
        "      <td>0.0</td>\n",
        "      <td>66.000000</td>\n",
        "      <td>360.0</td>\n",
        "      <td>1.0</td>\n",
        "      <td>1</td>\n",
        "      <td>Y</td>\n",
        "    </tr>\n",
        "    <tr>\n",
        "      <th>3</th>\n",
        "      <td>LP001006</td>\n",
        "      <td>0</td>\n",
        "      <td>0</td>\n",
        "      <td>0</td>\n",
        "      <td>2</td>\n",
        "      <td>0</td>\n",
        "      <td>2583</td>\n",
        "      <td>2358.0</td>\n",
        "      <td>120.000000</td>\n",
        "      <td>360.0</td>\n",
        "      <td>1.0</td>\n",
        "      <td>1</td>\n",
        "      <td>Y</td>\n",
        "    </tr>\n",
        "    <tr>\n",
        "      <th>4</th>\n",
        "      <td>LP001008</td>\n",
        "      <td>0</td>\n",
        "      <td>1</td>\n",
        "      <td>0</td>\n",
        "      <td>1</td>\n",
        "      <td>0</td>\n",
        "      <td>6000</td>\n",
        "      <td>0.0</td>\n",
        "      <td>141.000000</td>\n",
        "      <td>360.0</td>\n",
        "      <td>1.0</td>\n",
        "      <td>1</td>\n",
        "      <td>Y</td>\n",
        "    </tr>\n",
        "  </tbody>\n",
        "</table>\n",
        "</div>"
       ],
       "metadata": {},
       "output_type": "pyout",
       "prompt_number": 67,
       "text": [
        "    Loan_ID  Gender  Married Dependents  Education  Self_Employed  \\\n",
        "0  LP001002       0        1          0          1              0   \n",
        "1  LP001003       0        0          1          1              0   \n",
        "2  LP001005       0        0          0          1              1   \n",
        "3  LP001006       0        0          0          2              0   \n",
        "4  LP001008       0        1          0          1              0   \n",
        "\n",
        "   ApplicantIncome  CoapplicantIncome  LoanAmount  Loan_Amount_Term  \\\n",
        "0             5849                0.0  146.412162             360.0   \n",
        "1             4583             1508.0  128.000000             360.0   \n",
        "2             3000                0.0   66.000000             360.0   \n",
        "3             2583             2358.0  120.000000             360.0   \n",
        "4             6000                0.0  141.000000             360.0   \n",
        "\n",
        "   Credit_History  Property_Area Loan_Status  \n",
        "0             1.0              1           Y  \n",
        "1             1.0              2           N  \n",
        "2             1.0              1           Y  \n",
        "3             1.0              1           Y  \n",
        "4             1.0              1           Y  "
       ]
      }
     ],
     "prompt_number": 67
    },
    {
     "cell_type": "heading",
     "level": 1,
     "metadata": {},
     "source": [
      "Data Visualization"
     ]
    },
    {
     "cell_type": "code",
     "collapsed": false,
     "input": [
      "#Gender: Female:1, Male:0\n",
      "sns.barplot(x='Gender',y='Loan_Status',data=train)"
     ],
     "language": "python",
     "metadata": {},
     "outputs": [
      {
       "metadata": {},
       "output_type": "pyout",
       "prompt_number": 68,
       "text": [
        "<matplotlib.axes.AxesSubplot at 0x1139b5c90>"
       ]
      },
      {
       "metadata": {},
       "output_type": "display_data",
       "png": "[encoded data removed]",
       "text": [
        "<matplotlib.figure.Figure at 0x113b09c50>"
       ]
      }
     ],
     "prompt_number": 68
    },
    {
     "cell_type": "code",
     "collapsed": false,
     "input": [
      "train.describe()"
     ],
     "language": "python",
     "metadata": {},
     "outputs": [
      {
       "html": [
        "<div style=\"max-width:1500px;overflow:auto;\">\n",
        "<table border=\"1\" class=\"dataframe\">\n",
        "  <thead>\n",
        "    <tr style=\"text-align: right;\">\n",
        "      <th></th>\n",
        "      <th>Gender</th>\n",
        "      <th>Married</th>\n",
        "      <th>Education</th>\n",
        "      <th>Self_Employed</th>\n",
        "      <th>ApplicantIncome</th>\n",
        "      <th>CoapplicantIncome</th>\n",
        "      <th>LoanAmount</th>\n",
        "      <th>Loan_Amount_Term</th>\n",
        "      <th>Credit_History</th>\n",
        "      <th>Property_Area</th>\n",
        "    </tr>\n",
        "  </thead>\n",
        "  <tbody>\n",
        "    <tr>\n",
        "      <th>count</th>\n",
        "      <td>614.000000</td>\n",
        "      <td>614.000000</td>\n",
        "      <td>614.000000</td>\n",
        "      <td>614.000000</td>\n",
        "      <td>614.000000</td>\n",
        "      <td>614.000000</td>\n",
        "      <td>614.000000</td>\n",
        "      <td>614.000000</td>\n",
        "      <td>614.000000</td>\n",
        "      <td>614.000000</td>\n",
        "    </tr>\n",
        "    <tr>\n",
        "      <th>mean</th>\n",
        "      <td>0.182410</td>\n",
        "      <td>0.346906</td>\n",
        "      <td>1.218241</td>\n",
        "      <td>0.133550</td>\n",
        "      <td>5403.459283</td>\n",
        "      <td>1621.245798</td>\n",
        "      <td>146.412162</td>\n",
        "      <td>342.000000</td>\n",
        "      <td>0.855049</td>\n",
        "      <td>2.050489</td>\n",
        "    </tr>\n",
        "    <tr>\n",
        "      <th>std</th>\n",
        "      <td>0.386497</td>\n",
        "      <td>0.476373</td>\n",
        "      <td>0.413389</td>\n",
        "      <td>0.340446</td>\n",
        "      <td>6109.041673</td>\n",
        "      <td>2926.248369</td>\n",
        "      <td>84.037468</td>\n",
        "      <td>64.372489</td>\n",
        "      <td>0.352339</td>\n",
        "      <td>0.840875</td>\n",
        "    </tr>\n",
        "    <tr>\n",
        "      <th>min</th>\n",
        "      <td>0.000000</td>\n",
        "      <td>0.000000</td>\n",
        "      <td>1.000000</td>\n",
        "      <td>0.000000</td>\n",
        "      <td>150.000000</td>\n",
        "      <td>0.000000</td>\n",
        "      <td>9.000000</td>\n",
        "      <td>12.000000</td>\n",
        "      <td>0.000000</td>\n",
        "      <td>1.000000</td>\n",
        "    </tr>\n",
        "    <tr>\n",
        "      <th>25%</th>\n",
        "      <td>0.000000</td>\n",
        "      <td>0.000000</td>\n",
        "      <td>1.000000</td>\n",
        "      <td>0.000000</td>\n",
        "      <td>2877.500000</td>\n",
        "      <td>0.000000</td>\n",
        "      <td>100.250000</td>\n",
        "      <td>360.000000</td>\n",
        "      <td>1.000000</td>\n",
        "      <td>1.000000</td>\n",
        "    </tr>\n",
        "    <tr>\n",
        "      <th>50%</th>\n",
        "      <td>0.000000</td>\n",
        "      <td>0.000000</td>\n",
        "      <td>1.000000</td>\n",
        "      <td>0.000000</td>\n",
        "      <td>3812.500000</td>\n",
        "      <td>1188.500000</td>\n",
        "      <td>129.000000</td>\n",
        "      <td>360.000000</td>\n",
        "      <td>1.000000</td>\n",
        "      <td>2.000000</td>\n",
        "    </tr>\n",
        "    <tr>\n",
        "      <th>75%</th>\n",
        "      <td>0.000000</td>\n",
        "      <td>1.000000</td>\n",
        "      <td>1.000000</td>\n",
        "      <td>0.000000</td>\n",
        "      <td>5795.000000</td>\n",
        "      <td>2297.250000</td>\n",
        "      <td>164.750000</td>\n",
        "      <td>360.000000</td>\n",
        "      <td>1.000000</td>\n",
        "      <td>3.000000</td>\n",
        "    </tr>\n",
        "    <tr>\n",
        "      <th>max</th>\n",
        "      <td>1.000000</td>\n",
        "      <td>1.000000</td>\n",
        "      <td>2.000000</td>\n",
        "      <td>1.000000</td>\n",
        "      <td>81000.000000</td>\n",
        "      <td>41667.000000</td>\n",
        "      <td>700.000000</td>\n",
        "      <td>480.000000</td>\n",
        "      <td>1.000000</td>\n",
        "      <td>3.000000</td>\n",
        "    </tr>\n",
        "  </tbody>\n",
        "</table>\n",
        "</div>"
       ],
       "metadata": {},
       "output_type": "pyout",
       "prompt_number": 69,
       "text": [
        "           Gender     Married   Education  Self_Employed  ApplicantIncome  \\\n",
        "count  614.000000  614.000000  614.000000     614.000000       614.000000   \n",
        "mean     0.182410    0.346906    1.218241       0.133550      5403.459283   \n",
        "std      0.386497    0.476373    0.413389       0.340446      6109.041673   \n",
        "min      0.000000    0.000000    1.000000       0.000000       150.000000   \n",
        "25%      0.000000    0.000000    1.000000       0.000000      2877.500000   \n",
        "50%      0.000000    0.000000    1.000000       0.000000      3812.500000   \n",
        "75%      0.000000    1.000000    1.000000       0.000000      5795.000000   \n",
        "max      1.000000    1.000000    2.000000       1.000000     81000.000000   \n",
        "\n",
        "       CoapplicantIncome  LoanAmount  Loan_Amount_Term  Credit_History  \\\n",
        "count         614.000000  614.000000        614.000000      614.000000   \n",
        "mean         1621.245798  146.412162        342.000000        0.855049   \n",
        "std          2926.248369   84.037468         64.372489        0.352339   \n",
        "min             0.000000    9.000000         12.000000        0.000000   \n",
        "25%             0.000000  100.250000        360.000000        1.000000   \n",
        "50%          1188.500000  129.000000        360.000000        1.000000   \n",
        "75%          2297.250000  164.750000        360.000000        1.000000   \n",
        "max         41667.000000  700.000000        480.000000        1.000000   \n",
        "\n",
        "       Property_Area  \n",
        "count     614.000000  \n",
        "mean        2.050489  \n",
        "std         0.840875  \n",
        "min         1.000000  \n",
        "25%         1.000000  \n",
        "50%         2.000000  \n",
        "75%         3.000000  \n",
        "max         3.000000  "
       ]
      }
     ],
     "prompt_number": 69
    },
    {
     "cell_type": "code",
     "collapsed": false,
     "input": [
      "#Married: No:1, Yes:0\n",
      "sns.barplot(x='Married',y='Loan_Status',data=train)"
     ],
     "language": "python",
     "metadata": {},
     "outputs": [
      {
       "metadata": {},
       "output_type": "pyout",
       "prompt_number": 70,
       "text": [
        "<matplotlib.axes.AxesSubplot at 0x113b7e590>"
       ]
      },
      {
       "metadata": {},
       "output_type": "display_data",
       "png": "[encoded data removed]",
       "text": [
        "<matplotlib.figure.Figure at 0x113a6c850>"
       ]
      }
     ],
     "prompt_number": 70
    },
    {
     "cell_type": "code",
     "collapsed": false,
     "input": [
      "#Education:'Graduate':1,'Not Graduate':2\n",
      "sns.barplot(x='Education',y='Loan_Status',data=train)"
     ],
     "language": "python",
     "metadata": {},
     "outputs": [
      {
       "metadata": {},
       "output_type": "pyout",
       "prompt_number": 71,
       "text": [
        "<matplotlib.axes.AxesSubplot at 0x113c76990>"
       ]
      },
      {
       "metadata": {},
       "output_type": "display_data",
       "png": "[encoded data removed]",
       "text": [
        "<matplotlib.figure.Figure at 0x113b1efd0>"
       ]
      }
     ],
     "prompt_number": 71
    },
    {
     "cell_type": "code",
     "collapsed": false,
     "input": [
      "sns.barplot(x='Property_Area',y='Loan_Status',data=train)"
     ],
     "language": "python",
     "metadata": {},
     "outputs": [
      {
       "metadata": {},
       "output_type": "pyout",
       "prompt_number": 72,
       "text": [
        "<matplotlib.axes.AxesSubplot at 0x113d99c50>"
       ]
      },
      {
       "metadata": {},
       "output_type": "display_data",
       "png": "[encoded data removed]",
       "text": [
        "<matplotlib.figure.Figure at 0x113d5f150>"
       ]
      }
     ],
     "prompt_number": 72
    },
    {
     "cell_type": "code",
     "collapsed": false,
     "input": [
      "sns.barplot(x='Credit_History',y='Loan_Status',data=train)"
     ],
     "language": "python",
     "metadata": {},
     "outputs": [
      {
       "metadata": {},
       "output_type": "pyout",
       "prompt_number": 73,
       "text": [
        "<matplotlib.axes.AxesSubplot at 0x113ec05d0>"
       ]
      },
      {
       "metadata": {},
       "output_type": "display_data",
       "png": "[encoded data removed]",
       "text": [
        "<matplotlib.figure.Figure at 0x113d67590>"
       ]
      }
     ],
     "prompt_number": 73
    },
    {
     "cell_type": "code",
     "collapsed": false,
     "input": [
      "#sns.barplot(x='ApplicantIncome',y='Loan_Status',data=train)\n",
      "sns.boxplot(x='ApplicantIncome',y='Loan_Status',data=train)"
     ],
     "language": "python",
     "metadata": {},
     "outputs": [
      {
       "metadata": {},
       "output_type": "pyout",
       "prompt_number": 76,
       "text": [
        "<matplotlib.axes.AxesSubplot at 0x114154290>"
       ]
      },
      {
       "metadata": {},
       "output_type": "display_data",
       "png": "[encoded data removed]",
       "text": [
        "<matplotlib.figure.Figure at 0x1139ea150>"
       ]
      }
     ],
     "prompt_number": 76
    },
    {
     "cell_type": "code",
     "collapsed": false,
     "input": [
      "sns.boxplot(x='CoapplicantIncome',y='Loan_Status',data=train)"
     ],
     "language": "python",
     "metadata": {},
     "outputs": [
      {
       "metadata": {},
       "output_type": "pyout",
       "prompt_number": 77,
       "text": [
        "<matplotlib.axes.AxesSubplot at 0x114490810>"
       ]
      },
      {
       "metadata": {},
       "output_type": "display_data",
       "png": "[encoded data removed]",
       "text": [
        "<matplotlib.figure.Figure at 0x1141cd310>"
       ]
      }
     ],
     "prompt_number": 77
    },
    {
     "cell_type": "code",
     "collapsed": false,
     "input": [],
     "language": "python",
     "metadata": {},
     "outputs": []
    }
   ],
   "metadata": {}
  }
 ]
}